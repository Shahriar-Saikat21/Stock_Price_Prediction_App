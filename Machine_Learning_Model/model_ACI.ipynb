{
 "cells": [
  {
   "cell_type": "code",
   "execution_count": 1,
   "metadata": {},
   "outputs": [],
   "source": [
    "import numpy as np\n",
    "import pandas as pd\n",
    "import matplotlib.pyplot as plt"
   ]
  },
  {
   "cell_type": "code",
   "execution_count": 2,
   "metadata": {},
   "outputs": [
    {
     "data": {
      "text/html": [
       "<div>\n",
       "<style scoped>\n",
       "    .dataframe tbody tr th:only-of-type {\n",
       "        vertical-align: middle;\n",
       "    }\n",
       "\n",
       "    .dataframe tbody tr th {\n",
       "        vertical-align: top;\n",
       "    }\n",
       "\n",
       "    .dataframe thead th {\n",
       "        text-align: right;\n",
       "    }\n",
       "</style>\n",
       "<table border=\"1\" class=\"dataframe\">\n",
       "  <thead>\n",
       "    <tr style=\"text-align: right;\">\n",
       "      <th></th>\n",
       "      <th>date</th>\n",
       "      <th>trading_code</th>\n",
       "      <th>last_traded_price</th>\n",
       "      <th>high</th>\n",
       "      <th>low</th>\n",
       "      <th>opening_price</th>\n",
       "      <th>closing_price</th>\n",
       "      <th>yesterdays_closing_price</th>\n",
       "      <th>trade</th>\n",
       "      <th>value_mn</th>\n",
       "      <th>volume</th>\n",
       "    </tr>\n",
       "  </thead>\n",
       "  <tbody>\n",
       "    <tr>\n",
       "      <th>0</th>\n",
       "      <td>12/30/2008 0:00</td>\n",
       "      <td>ACI</td>\n",
       "      <td>519.0</td>\n",
       "      <td>538.0</td>\n",
       "      <td>514.0</td>\n",
       "      <td>521.0</td>\n",
       "      <td>521.3</td>\n",
       "      <td>528.6</td>\n",
       "      <td>1205.0</td>\n",
       "      <td>119.4100</td>\n",
       "      <td>229250.0</td>\n",
       "    </tr>\n",
       "    <tr>\n",
       "      <th>1</th>\n",
       "      <td>12/28/2008 0:00</td>\n",
       "      <td>ACI</td>\n",
       "      <td>528.0</td>\n",
       "      <td>537.9</td>\n",
       "      <td>516.5</td>\n",
       "      <td>527.0</td>\n",
       "      <td>528.6</td>\n",
       "      <td>502.1</td>\n",
       "      <td>1214.0</td>\n",
       "      <td>91.9733</td>\n",
       "      <td>173700.0</td>\n",
       "    </tr>\n",
       "    <tr>\n",
       "      <th>2</th>\n",
       "      <td>12/24/2008 0:00</td>\n",
       "      <td>ACI</td>\n",
       "      <td>524.9</td>\n",
       "      <td>525.0</td>\n",
       "      <td>480.0</td>\n",
       "      <td>485.9</td>\n",
       "      <td>502.1</td>\n",
       "      <td>481.5</td>\n",
       "      <td>1570.0</td>\n",
       "      <td>166.5134</td>\n",
       "      <td>334500.0</td>\n",
       "    </tr>\n",
       "    <tr>\n",
       "      <th>3</th>\n",
       "      <td>12/23/2008 0:00</td>\n",
       "      <td>ACI</td>\n",
       "      <td>480.0</td>\n",
       "      <td>490.0</td>\n",
       "      <td>477.6</td>\n",
       "      <td>477.6</td>\n",
       "      <td>481.5</td>\n",
       "      <td>479.6</td>\n",
       "      <td>376.0</td>\n",
       "      <td>23.9691</td>\n",
       "      <td>49450.0</td>\n",
       "    </tr>\n",
       "    <tr>\n",
       "      <th>4</th>\n",
       "      <td>12/22/2008 0:00</td>\n",
       "      <td>ACI</td>\n",
       "      <td>477.2</td>\n",
       "      <td>489.0</td>\n",
       "      <td>477.1</td>\n",
       "      <td>481.0</td>\n",
       "      <td>479.6</td>\n",
       "      <td>482.9</td>\n",
       "      <td>525.0</td>\n",
       "      <td>36.4681</td>\n",
       "      <td>75650.0</td>\n",
       "    </tr>\n",
       "  </tbody>\n",
       "</table>\n",
       "</div>"
      ],
      "text/plain": [
       "              date trading_code  last_traded_price   high    low  \\\n",
       "0  12/30/2008 0:00          ACI              519.0  538.0  514.0   \n",
       "1  12/28/2008 0:00          ACI              528.0  537.9  516.5   \n",
       "2  12/24/2008 0:00          ACI              524.9  525.0  480.0   \n",
       "3  12/23/2008 0:00          ACI              480.0  490.0  477.6   \n",
       "4  12/22/2008 0:00          ACI              477.2  489.0  477.1   \n",
       "\n",
       "   opening_price  closing_price  yesterdays_closing_price   trade  value_mn  \\\n",
       "0          521.0          521.3                     528.6  1205.0  119.4100   \n",
       "1          527.0          528.6                     502.1  1214.0   91.9733   \n",
       "2          485.9          502.1                     481.5  1570.0  166.5134   \n",
       "3          477.6          481.5                     479.6   376.0   23.9691   \n",
       "4          481.0          479.6                     482.9   525.0   36.4681   \n",
       "\n",
       "     volume  \n",
       "0  229250.0  \n",
       "1  173700.0  \n",
       "2  334500.0  \n",
       "3   49450.0  \n",
       "4   75650.0  "
      ]
     },
     "execution_count": 2,
     "metadata": {},
     "output_type": "execute_result"
    }
   ],
   "source": [
    "# read the data\n",
    "dataset = pd.read_csv('./data/data_for_ACI.csv')\n",
    "dataset.head()"
   ]
  },
  {
   "cell_type": "code",
   "execution_count": 3,
   "metadata": {},
   "outputs": [
    {
     "data": {
      "text/html": [
       "<div>\n",
       "<style scoped>\n",
       "    .dataframe tbody tr th:only-of-type {\n",
       "        vertical-align: middle;\n",
       "    }\n",
       "\n",
       "    .dataframe tbody tr th {\n",
       "        vertical-align: top;\n",
       "    }\n",
       "\n",
       "    .dataframe thead th {\n",
       "        text-align: right;\n",
       "    }\n",
       "</style>\n",
       "<table border=\"1\" class=\"dataframe\">\n",
       "  <thead>\n",
       "    <tr style=\"text-align: right;\">\n",
       "      <th></th>\n",
       "      <th>date</th>\n",
       "      <th>trading_code</th>\n",
       "      <th>last_traded_price</th>\n",
       "      <th>high</th>\n",
       "      <th>low</th>\n",
       "      <th>opening_price</th>\n",
       "      <th>closing_price</th>\n",
       "      <th>yesterdays_closing_price</th>\n",
       "      <th>trade</th>\n",
       "      <th>value_mn</th>\n",
       "      <th>volume</th>\n",
       "    </tr>\n",
       "  </thead>\n",
       "  <tbody>\n",
       "    <tr>\n",
       "      <th>3526</th>\n",
       "      <td>2022-01-06 00:00:00</td>\n",
       "      <td>ACI</td>\n",
       "      <td>291.4</td>\n",
       "      <td>294.3</td>\n",
       "      <td>288.7</td>\n",
       "      <td>291.9</td>\n",
       "      <td>291.4</td>\n",
       "      <td>291.9</td>\n",
       "      <td>1147.0</td>\n",
       "      <td>71.766</td>\n",
       "      <td>246754.0</td>\n",
       "    </tr>\n",
       "    <tr>\n",
       "      <th>3527</th>\n",
       "      <td>2022-01-05 00:00:00</td>\n",
       "      <td>ACI</td>\n",
       "      <td>291.9</td>\n",
       "      <td>299.8</td>\n",
       "      <td>291.0</td>\n",
       "      <td>297.0</td>\n",
       "      <td>291.9</td>\n",
       "      <td>297.2</td>\n",
       "      <td>1303.0</td>\n",
       "      <td>54.608</td>\n",
       "      <td>185767.0</td>\n",
       "    </tr>\n",
       "    <tr>\n",
       "      <th>3528</th>\n",
       "      <td>2022-01-04 00:00:00</td>\n",
       "      <td>ACI</td>\n",
       "      <td>297.2</td>\n",
       "      <td>299.8</td>\n",
       "      <td>287.1</td>\n",
       "      <td>288.0</td>\n",
       "      <td>297.2</td>\n",
       "      <td>287.9</td>\n",
       "      <td>1426.0</td>\n",
       "      <td>71.985</td>\n",
       "      <td>244150.0</td>\n",
       "    </tr>\n",
       "    <tr>\n",
       "      <th>3529</th>\n",
       "      <td>2022-01-03 00:00:00</td>\n",
       "      <td>ACI</td>\n",
       "      <td>287.9</td>\n",
       "      <td>289.9</td>\n",
       "      <td>286.5</td>\n",
       "      <td>287.1</td>\n",
       "      <td>287.9</td>\n",
       "      <td>287.8</td>\n",
       "      <td>896.0</td>\n",
       "      <td>46.544</td>\n",
       "      <td>161731.0</td>\n",
       "    </tr>\n",
       "    <tr>\n",
       "      <th>3530</th>\n",
       "      <td>2022-01-02 00:00:00</td>\n",
       "      <td>ACI</td>\n",
       "      <td>287.8</td>\n",
       "      <td>289.9</td>\n",
       "      <td>284.0</td>\n",
       "      <td>285.4</td>\n",
       "      <td>287.8</td>\n",
       "      <td>285.4</td>\n",
       "      <td>567.0</td>\n",
       "      <td>20.504</td>\n",
       "      <td>71478.0</td>\n",
       "    </tr>\n",
       "  </tbody>\n",
       "</table>\n",
       "</div>"
      ],
      "text/plain": [
       "                     date trading_code  last_traded_price   high    low  \\\n",
       "3526  2022-01-06 00:00:00          ACI              291.4  294.3  288.7   \n",
       "3527  2022-01-05 00:00:00          ACI              291.9  299.8  291.0   \n",
       "3528  2022-01-04 00:00:00          ACI              297.2  299.8  287.1   \n",
       "3529  2022-01-03 00:00:00          ACI              287.9  289.9  286.5   \n",
       "3530  2022-01-02 00:00:00          ACI              287.8  289.9  284.0   \n",
       "\n",
       "      opening_price  closing_price  yesterdays_closing_price   trade  \\\n",
       "3526          291.9          291.4                     291.9  1147.0   \n",
       "3527          297.0          291.9                     297.2  1303.0   \n",
       "3528          288.0          297.2                     287.9  1426.0   \n",
       "3529          287.1          287.9                     287.8   896.0   \n",
       "3530          285.4          287.8                     285.4   567.0   \n",
       "\n",
       "      value_mn    volume  \n",
       "3526    71.766  246754.0  \n",
       "3527    54.608  185767.0  \n",
       "3528    71.985  244150.0  \n",
       "3529    46.544  161731.0  \n",
       "3530    20.504   71478.0  "
      ]
     },
     "execution_count": 3,
     "metadata": {},
     "output_type": "execute_result"
    }
   ],
   "source": [
    "dataset.tail()"
   ]
  },
  {
   "cell_type": "code",
   "execution_count": 4,
   "metadata": {},
   "outputs": [],
   "source": [
    "dataset.dropna(subset=['closing_price'],inplace=True)"
   ]
  },
  {
   "cell_type": "code",
   "execution_count": 5,
   "metadata": {},
   "outputs": [
    {
     "data": {
      "text/plain": [
       "date                         0\n",
       "trading_code                 0\n",
       "last_traded_price           17\n",
       "high                        17\n",
       "low                         17\n",
       "opening_price                9\n",
       "closing_price                0\n",
       "yesterdays_closing_price     0\n",
       "trade                       17\n",
       "value_mn                    17\n",
       "volume                      17\n",
       "dtype: int64"
      ]
     },
     "execution_count": 5,
     "metadata": {},
     "output_type": "execute_result"
    }
   ],
   "source": [
    "dataset.isnull().sum()"
   ]
  },
  {
   "cell_type": "code",
   "execution_count": 6,
   "metadata": {},
   "outputs": [],
   "source": [
    "data = dataset.reset_index()['closing_price']"
   ]
  },
  {
   "cell_type": "code",
   "execution_count": 7,
   "metadata": {},
   "outputs": [
    {
     "data": {
      "text/plain": [
       "0       521.3\n",
       "1       528.6\n",
       "2       502.1\n",
       "3       481.5\n",
       "4       479.6\n",
       "        ...  \n",
       "3525    291.4\n",
       "3526    291.9\n",
       "3527    297.2\n",
       "3528    287.9\n",
       "3529    287.8\n",
       "Name: closing_price, Length: 3530, dtype: float64"
      ]
     },
     "execution_count": 7,
     "metadata": {},
     "output_type": "execute_result"
    }
   ],
   "source": [
    "data"
   ]
  },
  {
   "cell_type": "code",
   "execution_count": 8,
   "metadata": {},
   "outputs": [
    {
     "data": {
      "text/plain": [
       "(3530,)"
      ]
     },
     "execution_count": 8,
     "metadata": {},
     "output_type": "execute_result"
    }
   ],
   "source": [
    "data.shape"
   ]
  },
  {
   "cell_type": "code",
   "execution_count": 9,
   "metadata": {},
   "outputs": [
    {
     "data": {
      "text/plain": [
       "[<matplotlib.lines.Line2D at 0x1f7f2138190>]"
      ]
     },
     "execution_count": 9,
     "metadata": {},
     "output_type": "execute_result"
    },
    {
     "data": {
      "image/png": "[encoded data removed]",
      "text/plain": [
       "<Figure size 640x480 with 1 Axes>"
      ]
     },
     "metadata": {},
     "output_type": "display_data"
    }
   ],
   "source": [
    "plt.plot(data)"
   ]
  },
  {
   "cell_type": "code",
   "execution_count": 10,
   "metadata": {},
   "outputs": [],
   "source": [
    "# preprocessing the data\n",
    "from sklearn.preprocessing import MinMaxScaler\n",
    "scaler = MinMaxScaler(feature_range=(0,1))"
   ]
  },
  {
   "cell_type": "code",
   "execution_count": 11,
   "metadata": {},
   "outputs": [],
   "source": [
    "data = scaler.fit_transform(np.array(data).reshape(-1,1))"
   ]
  },
  {
   "cell_type": "code",
   "execution_count": 12,
   "metadata": {},
   "outputs": [
    {
     "data": {
      "text/plain": [
       "(3530, 1)"
      ]
     },
     "execution_count": 12,
     "metadata": {},
     "output_type": "execute_result"
    }
   ],
   "source": [
    "data.shape"
   ]
  },
  {
   "cell_type": "code",
   "execution_count": 13,
   "metadata": {},
   "outputs": [
    {
     "data": {
      "text/plain": [
       "array([[0.77174966],\n",
       "       [0.78589421],\n",
       "       [0.73454757],\n",
       "       ...,\n",
       "       [0.33753149],\n",
       "       [0.31951172],\n",
       "       [0.31931796]])"
      ]
     },
     "execution_count": 13,
     "metadata": {},
     "output_type": "execute_result"
    }
   ],
   "source": [
    "data"
   ]
  },
  {
   "cell_type": "code",
   "execution_count": 14,
   "metadata": {},
   "outputs": [
    {
     "data": {
      "text/plain": [
       "(2824, 706)"
      ]
     },
     "execution_count": 14,
     "metadata": {},
     "output_type": "execute_result"
    }
   ],
   "source": [
    "# train & test data splitting\n",
    "\n",
    "train_size = int(len(data)*0.8)\n",
    "test_size = len(data) - train_size\n",
    "\n",
    "train_size, test_size"
   ]
  },
  {
   "cell_type": "code",
   "execution_count": 15,
   "metadata": {},
   "outputs": [],
   "source": [
    "train_data, test_data = data[0:train_size, :], data[train_size:len(data), :]"
   ]
  },
  {
   "cell_type": "code",
   "execution_count": 16,
   "metadata": {},
   "outputs": [],
   "source": [
    "# convert an array of values into a dataset matrix\n",
    "def create_dataset(dataset, time_step=1):\n",
    "\tdataX, dataY = [], []\n",
    "\tfor i in range(len(dataset)-time_step-1):\n",
    "\t\ta = dataset[i:(i+time_step), 0]  \n",
    "\t\tdataX.append(a)\n",
    "\t\tdataY.append(dataset[i + time_step, 0])\n",
    "\treturn np.array(dataX), np.array(dataY)"
   ]
  },
  {
   "cell_type": "code",
   "execution_count": 17,
   "metadata": {},
   "outputs": [],
   "source": [
    "time_step = 100\n",
    "x_train, y_train = create_dataset(train_data,time_step)\n",
    "x_test, y_test = create_dataset(test_data,time_step)"
   ]
  },
  {
   "cell_type": "code",
   "execution_count": 18,
   "metadata": {},
   "outputs": [
    {
     "name": "stdout",
     "output_type": "stream",
     "text": [
      "[[0.77174966 0.78589421 0.73454757 ... 0.74287929 0.74966092 0.72175935]\n",
      " [0.78589421 0.73454757 0.69463282 ... 0.74966092 0.72175935 0.73047859]\n",
      " [0.73454757 0.69463282 0.69095137 ... 0.72175935 0.73047859 0.68242589]\n",
      " ...\n",
      " [0.29064135 0.29393528 0.28269715 ... 0.37202093 0.41755474 0.41232319]\n",
      " [0.29393528 0.28269715 0.284441   ... 0.41755474 0.41232319 0.41658593]\n",
      " [0.28269715 0.284441   0.28037202 ... 0.41232319 0.41658593 0.42162372]]\n"
     ]
    }
   ],
   "source": [
    "print(x_train)"
   ]
  },
  {
   "cell_type": "code",
   "execution_count": 19,
   "metadata": {},
   "outputs": [
    {
     "name": "stdout",
     "output_type": "stream",
     "text": [
      "[0.73047859 0.68242589 0.69560163 ... 0.41658593 0.42162372 0.43247433]\n"
     ]
    }
   ],
   "source": [
    "print(y_train)"
   ]
  },
  {
   "cell_type": "code",
   "execution_count": 20,
   "metadata": {},
   "outputs": [
    {
     "name": "stdout",
     "output_type": "stream",
     "text": [
      "[[0.43983724 0.44274365 0.44041852 ... 0.27765937 0.28560357 0.28579733]\n",
      " [0.44274365 0.44041852 0.4435187  ... 0.28560357 0.28579733 0.29141639]\n",
      " [0.44041852 0.4435187  0.44080605 ... 0.28579733 0.29141639 0.29393528]\n",
      " ...\n",
      " [0.30032939 0.30749855 0.30846735 ... 0.32241814 0.32067429 0.32629335]\n",
      " [0.30749855 0.30846735 0.30749855 ... 0.32067429 0.32629335 0.32726216]\n",
      " [0.30846735 0.30749855 0.30362333 ... 0.32629335 0.32726216 0.33753149]]\n"
     ]
    }
   ],
   "source": [
    "print(x_test)"
   ]
  },
  {
   "cell_type": "code",
   "execution_count": 21,
   "metadata": {},
   "outputs": [
    {
     "name": "stdout",
     "output_type": "stream",
     "text": [
      "[0.29141639 0.29393528 0.29083511 0.28560357 0.29432281 0.29742298\n",
      " 0.302267   0.29703546 0.30788607 0.31195505 0.28366596 0.2799845\n",
      " 0.275528   0.28289091 0.26913389 0.24723891 0.25750823 0.24413873\n",
      " 0.23115675 0.22437512 0.20635536 0.2160434  0.1947297  0.16992831\n",
      " 0.16915326 0.16740942 0.16159659 0.15965898 0.16469676 0.16489053\n",
      " 0.16411548 0.16721566 0.17574114 0.16469676 0.15055222 0.15287735\n",
      " 0.14415811 0.13485759 0.14532067 0.15733385 0.15074598 0.14454563\n",
      " 0.13582639 0.13466382 0.13447006 0.13272622 0.13272622 0.13466382\n",
      " 0.12187561 0.12206937 0.12168184 0.13078861 0.137764   0.12807595\n",
      " 0.13388878 0.13059485 0.13834528 0.13369502 0.14202674 0.15403991\n",
      " 0.16779694 0.18058516 0.14260802 0.13563263 0.15345863 0.13040109\n",
      " 0.11373765 0.08796745 0.10153071 0.11276884 0.12962604 0.12865724\n",
      " 0.11005619 0.09629917 0.11024995 0.11412517 0.11257508 0.1119938\n",
      " 0.11625654 0.11509397 0.12361945 0.12807595 0.13098237 0.12768843\n",
      " 0.13853904 0.13815152 0.14163922 0.15229607 0.15307111 0.14648324\n",
      " 0.11257508 0.10889363 0.11160628 0.10714978 0.10908739 0.11024995\n",
      " 0.11218756 0.10559969 0.10230575 0.11218756 0.11606278 0.14532067\n",
      " 0.14299554 0.14512691 0.15132726 0.14880837 0.12807595 0.13040109\n",
      " 0.13582639 0.12962604 0.11606278 0.10811858 0.10695602 0.11354389\n",
      " 0.1209068  0.11606278 0.11858167 0.12245689 0.12206937 0.13195117\n",
      " 0.14086417 0.1154815  0.3146677  0.31292385 0.31389266 0.31583027\n",
      " 0.31408642 0.32222438 0.32726216 0.32164309 0.32028677 0.32416198\n",
      " 0.32513079 0.32532455 0.32958729 0.33404379 0.34082542 0.33908157\n",
      " 0.34005038 0.34373183 0.34993218 0.33908157 0.33229994 0.32241814\n",
      " 0.33462507 0.34082542 0.35070723 0.35942647 0.36853323 0.35128851\n",
      " 0.33791901 0.41232319 0.41232319 0.39972873 0.40341019 0.3884906\n",
      " 0.37124588 0.37628367 0.35477621 0.35535749 0.35632629 0.36233288\n",
      " 0.36097655 0.36737066 0.37744623 0.37919008 0.37531486 0.37357101\n",
      " 0.3716334  0.35341988 0.36252664 0.3706646  0.3671769  0.36892075\n",
      " 0.3786088  0.39449719 0.39391591 0.42375509 0.43344313 0.40108506\n",
      " 0.38229025 0.37647743 0.35613253 0.3627204  0.36659562 0.34411936\n",
      " 0.34276303 0.3458632  0.3483821  0.34566944 0.35070723 0.35419492\n",
      " 0.35361364 0.35012594 0.35148227 0.35652005 0.35768262 0.3528386\n",
      " 0.36795195 0.37008332 0.38170897 0.37221469 0.3716334  0.36795195\n",
      " 0.37240845 0.37686495 0.36562682 0.37047084 0.35070723 0.33210618\n",
      " 0.32629335 0.32551831 0.32106181 0.3226119  0.3156365  0.31796164\n",
      " 0.32474327 0.32687464 0.32183685 0.32764968 0.32978105 0.33927533\n",
      " 0.32454951 0.31292385 0.31486146 0.30788607 0.29374152 0.28695989\n",
      " 0.28560357 0.28850998 0.28695989 0.2879287  0.28870374 0.28773494\n",
      " 0.28695989 0.27669056 0.27514048 0.27455919 0.27843441 0.26700252\n",
      " 0.27262158 0.27281535 0.26545243 0.26332106 0.2720403  0.26952141\n",
      " 0.27300911 0.27359039 0.27514048 0.27223406 0.27262158 0.28424724\n",
      " 0.28308467 0.27029645 0.27417167 0.26835885 0.27029645 0.2675838\n",
      " 0.25343926 0.23948847 0.24142608 0.24045728 0.23890719 0.23910095\n",
      " 0.2418136  0.24472002 0.25808952 0.25615191 0.25498934 0.26952141\n",
      " 0.27591552 0.25615191 0.25479558 0.25440806 0.257702   0.25615191\n",
      " 0.24065104 0.22960667 0.23173804 0.23406317 0.23386941 0.23038171\n",
      " 0.23154427 0.2329006  0.2319318  0.23367564 0.23154427 0.23270684\n",
      " 0.23328812 0.23096299 0.22437512 0.2204999  0.21894982 0.20751792\n",
      " 0.20209262 0.21119938 0.22127495 0.21894982 0.20790544 0.20306142\n",
      " 0.23076923 0.22708777 0.2329006  0.23231932 0.23348188 0.23173804\n",
      " 0.23580701 0.23561325 0.24142608 0.24665762 0.2532455  0.24510754\n",
      " 0.24472002 0.24549506 0.24200736 0.25285797 0.25653943 0.25247045\n",
      " 0.23987599 0.2329006  0.23386941 0.23173804 0.23135051 0.23251308\n",
      " 0.23270684 0.22883162 0.22825034 0.23057547 0.22863786 0.23173804\n",
      " 0.22592521 0.23038171 0.2294129  0.23503197 0.24142608 0.24065104\n",
      " 0.24859523 0.25130789 0.25150165 0.25092036 0.25808952 0.26506491\n",
      " 0.25983337 0.26060841 0.25886456 0.26622748 0.27688432 0.27300911\n",
      " 0.26990893 0.27707809 0.26913389 0.26041465 0.25886456 0.25673319\n",
      " 0.25634567 0.26409611 0.24316993 0.23910095 0.23968223 0.24103856\n",
      " 0.24297617 0.24355745 0.26583995 0.26583995 0.26583995 0.26583995\n",
      " 0.26583995 0.26583995 0.26583995 0.26583995 0.26583995 0.26583995\n",
      " 0.26583995 0.26583995 0.26583995 0.26583995 0.26583995 0.26583995\n",
      " 0.26583995 0.26583995 0.26583995 0.26583995 0.26583995 0.26583995\n",
      " 0.26583995 0.26583995 0.26583995 0.26583995 0.26583995 0.26583995\n",
      " 0.26583995 0.29102887 0.29102887 0.29102887 0.29102887 0.29102887\n",
      " 0.29102887 0.29102887 0.29102887 0.29102887 0.293354   0.2923852\n",
      " 0.29141639 0.29161015 0.29102887 0.29122263 0.29102887 0.29102887\n",
      " 0.29102887 0.29102887 0.29102887 0.29664794 0.302267   0.29122263\n",
      " 0.29102887 0.29277272 0.29122263 0.29432281 0.29141639 0.29102887\n",
      " 0.29509785 0.29722922 0.29374152 0.29761674 0.293354   0.29257896\n",
      " 0.29296648 0.29277272 0.2968417  0.29936059 0.302267   0.30652974\n",
      " 0.30652974 0.30284829 0.30633598 0.30924239 0.31214881 0.31273009\n",
      " 0.31428018 0.31718659 0.32009301 0.31253633 0.30962992 0.31350513\n",
      " 0.30788607 0.30556094 0.30420461 0.30362333 0.30284829 0.30633598\n",
      " 0.30943616 0.31118    0.30749855 0.30207324 0.30091068 0.29509785\n",
      " 0.29277272 0.293354   0.2923852  0.29994187 0.29916683 0.2978105\n",
      " 0.29858555 0.2978105  0.29199767 0.29316024 0.28773494 0.28812246\n",
      " 0.29257896 0.29722922 0.29006007 0.29722922 0.29257896 0.28831622\n",
      " 0.29839178 0.30885487 0.30246076 0.30071692 0.30091068 0.30110444\n",
      " 0.30362333 0.30420461 0.30478589 0.30304205 0.31001744 0.30556094\n",
      " 0.30711102 0.30420461 0.30149196 0.30168572 0.30517342 0.30304205\n",
      " 0.30497966 0.30827359 0.30459213 0.30420461 0.29955435 0.29645418\n",
      " 0.29645418 0.29994187 0.30032939 0.30032939 0.30032939 0.30749855\n",
      " 0.30846735 0.30749855 0.30362333 0.30497966 0.30982368 0.29877931\n",
      " 0.29141639 0.2923852  0.29858555 0.28657237 0.29567913 0.29839178\n",
      " 0.3067235  0.30711102 0.32764968 0.32881225 0.34876962 0.34528192\n",
      " 0.32396822 0.32551831 0.32203061 0.3235807  0.32416198 0.31893044\n",
      " 0.32338694 0.32241814 0.3156365  0.30885487 0.30401085 0.30924239\n",
      " 0.31059872 0.31331137 0.31796164 0.31776787 0.31524898 0.31544274\n",
      " 0.31718659 0.31699283 0.32048053 0.32764968 0.32551831 0.32823096\n",
      " 0.33133114 0.32028677 0.31738035 0.3181554  0.31776787 0.31350513\n",
      " 0.31718659 0.32106181 0.31757411 0.31989924 0.32454951 0.3181554\n",
      " 0.31583027 0.30556094 0.29490409 0.31505522 0.31660531 0.31757411\n",
      " 0.32396822 0.32590583 0.31951172 0.32861848 0.33288122 0.3315249\n",
      " 0.33210618 0.34005038 0.34315055 0.3414067  0.34528192 0.34683201\n",
      " 0.35438868 0.34721953 0.35361364 0.35710134 0.35748886 0.34528192\n",
      " 0.34605697 0.34896338 0.35148227 0.3572951  0.36020151 0.37337725\n",
      " 0.38209649 0.37473358 0.37434606 0.39604728 0.37570238 0.3324937\n",
      " 0.32609959 0.32086805 0.32590583 0.31989924 0.32900601 0.32241814\n",
      " 0.32067429 0.32629335 0.32726216 0.33753149 0.31951172]\n"
     ]
    }
   ],
   "source": [
    "print(y_test)"
   ]
  },
  {
   "cell_type": "code",
   "execution_count": 22,
   "metadata": {},
   "outputs": [
    {
     "name": "stdout",
     "output_type": "stream",
     "text": [
      "(2723, 100)\n",
      "(2723,)\n",
      "(605, 100)\n",
      "(605,)\n"
     ]
    },
    {
     "data": {
      "text/plain": [
       "(None, None)"
      ]
     },
     "execution_count": 22,
     "metadata": {},
     "output_type": "execute_result"
    }
   ],
   "source": [
    "print(x_train.shape), print(y_train.shape)\n",
    "print(x_test.shape), print(y_test.shape)"
   ]
  },
  {
   "cell_type": "code",
   "execution_count": 23,
   "metadata": {},
   "outputs": [],
   "source": [
    "# reshape input into 3D array\n",
    "x_train = x_train.reshape(x_train.shape[0],x_train.shape[1],1)\n",
    "x_test = x_test.reshape(x_test.shape[0],x_test.shape[1],1)"
   ]
  },
  {
   "cell_type": "code",
   "execution_count": 24,
   "metadata": {},
   "outputs": [
    {
     "data": {
      "text/plain": [
       "((2723, 100, 1), (605, 100, 1))"
      ]
     },
     "execution_count": 24,
     "metadata": {},
     "output_type": "execute_result"
    }
   ],
   "source": [
    "x_train.shape, x_test.shape"
   ]
  },
  {
   "cell_type": "code",
   "execution_count": 25,
   "metadata": {},
   "outputs": [],
   "source": [
    "# create LSTM model\n",
    "from tensorflow.keras.models import Sequential\n",
    "from tensorflow.keras.layers import Dense, LSTM, Dropout\n",
    "from tensorflow.keras.callbacks import EarlyStopping"
   ]
  },
  {
   "cell_type": "code",
   "execution_count": 26,
   "metadata": {},
   "outputs": [
    {
     "name": "stderr",
     "output_type": "stream",
     "text": [
      "c:\\Users\\USER\\AppData\\Local\\Programs\\Python\\Python310\\lib\\site-packages\\keras\\src\\layers\\rnn\\rnn.py:204: UserWarning: Do not pass an `input_shape`/`input_dim` argument to a layer. When using Sequential models, prefer using an `Input(shape)` object as the first layer in the model instead.\n",
      "  super().__init__(**kwargs)\n"
     ]
    }
   ],
   "source": [
    "model = Sequential()\n",
    "\n",
    "model.add(LSTM(units = 50, activation = 'relu', return_sequences = True, input_shape = (x_train.shape[1],1)))\n",
    "model.add(Dropout(0.2))\n",
    "\n",
    "# model.add(LSTM(units = 60, activation = 'relu', return_sequences = True))\n",
    "# model.add(Dropout(0.3))\n",
    "\n",
    "model.add(LSTM(units = 80, activation = 'relu', return_sequences = True))\n",
    "model.add(Dropout(0.4))\n",
    "\n",
    "model.add(LSTM(units = 120, activation = 'relu'))\n",
    "model.add(Dropout(0.5))\n",
    "\n",
    "model.add(Dense(units = 1))"
   ]
  },
  {
   "cell_type": "code",
   "execution_count": 27,
   "metadata": {},
   "outputs": [
    {
     "data": {
      "text/html": [
       "<pre style=\"white-space:pre;overflow-x:auto;line-height:normal;font-family:Menlo,'DejaVu Sans Mono',consolas,'Courier New',monospace\"><span style=\"font-weight: bold\">Model: \"sequential\"</span>\n",
       "</pre>\n"
      ],
      "text/plain": [
       "\u001b[1mModel: \"sequential\"\u001b[0m\n"
      ]
     },
     "metadata": {},
     "output_type": "display_data"
    },
    {
     "data": {
      "text/html": [
       "<pre style=\"white-space:pre;overflow-x:auto;line-height:normal;font-family:Menlo,'DejaVu Sans Mono',consolas,'Courier New',monospace\">┏━━━━━━━━━━━━━━━━━━━━━━━━━━━━━━━━━┳━━━━━━━━━━━━━━━━━━━━━━━━┳━━━━━━━━━━━━━━━┓\n",
       "┃<span style=\"font-weight: bold\"> Layer (type)                    </span>┃<span style=\"font-weight: bold\"> Output Shape           </span>┃<span style=\"font-weight: bold\">       Param # </span>┃\n",
       "┡━━━━━━━━━━━━━━━━━━━━━━━━━━━━━━━━━╇━━━━━━━━━━━━━━━━━━━━━━━━╇━━━━━━━━━━━━━━━┩\n",
       "│ lstm (<span style=\"color: #0087ff; text-decoration-color: #0087ff\">LSTM</span>)                     │ (<span style=\"color: #00d7ff; text-decoration-color: #00d7ff\">None</span>, <span style=\"color: #00af00; text-decoration-color: #00af00\">100</span>, <span style=\"color: #00af00; text-decoration-color: #00af00\">50</span>)        │        <span style=\"color: #00af00; text-decoration-color: #00af00\">10,400</span> │\n",
       "├─────────────────────────────────┼────────────────────────┼───────────────┤\n",
       "│ dropout (<span style=\"color: #0087ff; text-decoration-color: #0087ff\">Dropout</span>)               │ (<span style=\"color: #00d7ff; text-decoration-color: #00d7ff\">None</span>, <span style=\"color: #00af00; text-decoration-color: #00af00\">100</span>, <span style=\"color: #00af00; text-decoration-color: #00af00\">50</span>)        │             <span style=\"color: #00af00; text-decoration-color: #00af00\">0</span> │\n",
       "├─────────────────────────────────┼────────────────────────┼───────────────┤\n",
       "│ lstm_1 (<span style=\"color: #0087ff; text-decoration-color: #0087ff\">LSTM</span>)                   │ (<span style=\"color: #00d7ff; text-decoration-color: #00d7ff\">None</span>, <span style=\"color: #00af00; text-decoration-color: #00af00\">100</span>, <span style=\"color: #00af00; text-decoration-color: #00af00\">80</span>)        │        <span style=\"color: #00af00; text-decoration-color: #00af00\">41,920</span> │\n",
       "├─────────────────────────────────┼────────────────────────┼───────────────┤\n",
       "│ dropout_1 (<span style=\"color: #0087ff; text-decoration-color: #0087ff\">Dropout</span>)             │ (<span style=\"color: #00d7ff; text-decoration-color: #00d7ff\">None</span>, <span style=\"color: #00af00; text-decoration-color: #00af00\">100</span>, <span style=\"color: #00af00; text-decoration-color: #00af00\">80</span>)        │             <span style=\"color: #00af00; text-decoration-color: #00af00\">0</span> │\n",
       "├─────────────────────────────────┼────────────────────────┼───────────────┤\n",
       "│ lstm_2 (<span style=\"color: #0087ff; text-decoration-color: #0087ff\">LSTM</span>)                   │ (<span style=\"color: #00d7ff; text-decoration-color: #00d7ff\">None</span>, <span style=\"color: #00af00; text-decoration-color: #00af00\">120</span>)            │        <span style=\"color: #00af00; text-decoration-color: #00af00\">96,480</span> │\n",
       "├─────────────────────────────────┼────────────────────────┼───────────────┤\n",
       "│ dropout_2 (<span style=\"color: #0087ff; text-decoration-color: #0087ff\">Dropout</span>)             │ (<span style=\"color: #00d7ff; text-decoration-color: #00d7ff\">None</span>, <span style=\"color: #00af00; text-decoration-color: #00af00\">120</span>)            │             <span style=\"color: #00af00; text-decoration-color: #00af00\">0</span> │\n",
       "├─────────────────────────────────┼────────────────────────┼───────────────┤\n",
       "│ dense (<span style=\"color: #0087ff; text-decoration-color: #0087ff\">Dense</span>)                   │ (<span style=\"color: #00d7ff; text-decoration-color: #00d7ff\">None</span>, <span style=\"color: #00af00; text-decoration-color: #00af00\">1</span>)              │           <span style=\"color: #00af00; text-decoration-color: #00af00\">121</span> │\n",
       "└─────────────────────────────────┴────────────────────────┴───────────────┘\n",
       "</pre>\n"
      ],
      "text/plain": [
       "┏━━━━━━━━━━━━━━━━━━━━━━━━━━━━━━━━━┳━━━━━━━━━━━━━━━━━━━━━━━━┳━━━━━━━━━━━━━━━┓\n",
       "┃\u001b[1m \u001b[0m\u001b[1mLayer (type)                   \u001b[0m\u001b[1m \u001b[0m┃\u001b[1m \u001b[0m\u001b[1mOutput Shape          \u001b[0m\u001b[1m \u001b[0m┃\u001b[1m \u001b[0m\u001b[1m      Param #\u001b[0m\u001b[1m \u001b[0m┃\n",
       "┡━━━━━━━━━━━━━━━━━━━━━━━━━━━━━━━━━╇━━━━━━━━━━━━━━━━━━━━━━━━╇━━━━━━━━━━━━━━━┩\n",
       "│ lstm (\u001b[38;5;33mLSTM\u001b[0m)                     │ (\u001b[38;5;45mNone\u001b[0m, \u001b[38;5;34m100\u001b[0m, \u001b[38;5;34m50\u001b[0m)        │        \u001b[38;5;34m10,400\u001b[0m │\n",
       "├─────────────────────────────────┼────────────────────────┼───────────────┤\n",
       "│ dropout (\u001b[38;5;33mDropout\u001b[0m)               │ (\u001b[38;5;45mNone\u001b[0m, \u001b[38;5;34m100\u001b[0m, \u001b[38;5;34m50\u001b[0m)        │             \u001b[38;5;34m0\u001b[0m │\n",
       "├─────────────────────────────────┼────────────────────────┼───────────────┤\n",
       "│ lstm_1 (\u001b[38;5;33mLSTM\u001b[0m)                   │ (\u001b[38;5;45mNone\u001b[0m, \u001b[38;5;34m100\u001b[0m, \u001b[38;5;34m80\u001b[0m)        │        \u001b[38;5;34m41,920\u001b[0m │\n",
       "├─────────────────────────────────┼────────────────────────┼───────────────┤\n",
       "│ dropout_1 (\u001b[38;5;33mDropout\u001b[0m)             │ (\u001b[38;5;45mNone\u001b[0m, \u001b[38;5;34m100\u001b[0m, \u001b[38;5;34m80\u001b[0m)        │             \u001b[38;5;34m0\u001b[0m │\n",
       "├─────────────────────────────────┼────────────────────────┼───────────────┤\n",
       "│ lstm_2 (\u001b[38;5;33mLSTM\u001b[0m)                   │ (\u001b[38;5;45mNone\u001b[0m, \u001b[38;5;34m120\u001b[0m)            │        \u001b[38;5;34m96,480\u001b[0m │\n",
       "├─────────────────────────────────┼────────────────────────┼───────────────┤\n",
       "│ dropout_2 (\u001b[38;5;33mDropout\u001b[0m)             │ (\u001b[38;5;45mNone\u001b[0m, \u001b[38;5;34m120\u001b[0m)            │             \u001b[38;5;34m0\u001b[0m │\n",
       "├─────────────────────────────────┼────────────────────────┼───────────────┤\n",
       "│ dense (\u001b[38;5;33mDense\u001b[0m)                   │ (\u001b[38;5;45mNone\u001b[0m, \u001b[38;5;34m1\u001b[0m)              │           \u001b[38;5;34m121\u001b[0m │\n",
       "└─────────────────────────────────┴────────────────────────┴───────────────┘\n"
      ]
     },
     "metadata": {},
     "output_type": "display_data"
    },
    {
     "data": {
      "text/html": [
       "<pre style=\"white-space:pre;overflow-x:auto;line-height:normal;font-family:Menlo,'DejaVu Sans Mono',consolas,'Courier New',monospace\"><span style=\"font-weight: bold\"> Total params: </span><span style=\"color: #00af00; text-decoration-color: #00af00\">148,921</span> (581.72 KB)\n",
       "</pre>\n"
      ],
      "text/plain": [
       "\u001b[1m Total params: \u001b[0m\u001b[38;5;34m148,921\u001b[0m (581.72 KB)\n"
      ]
     },
     "metadata": {},
     "output_type": "display_data"
    },
    {
     "data": {
      "text/html": [
       "<pre style=\"white-space:pre;overflow-x:auto;line-height:normal;font-family:Menlo,'DejaVu Sans Mono',consolas,'Courier New',monospace\"><span style=\"font-weight: bold\"> Trainable params: </span><span style=\"color: #00af00; text-decoration-color: #00af00\">148,921</span> (581.72 KB)\n",
       "</pre>\n"
      ],
      "text/plain": [
       "\u001b[1m Trainable params: \u001b[0m\u001b[38;5;34m148,921\u001b[0m (581.72 KB)\n"
      ]
     },
     "metadata": {},
     "output_type": "display_data"
    },
    {
     "data": {
      "text/html": [
       "<pre style=\"white-space:pre;overflow-x:auto;line-height:normal;font-family:Menlo,'DejaVu Sans Mono',consolas,'Courier New',monospace\"><span style=\"font-weight: bold\"> Non-trainable params: </span><span style=\"color: #00af00; text-decoration-color: #00af00\">0</span> (0.00 B)\n",
       "</pre>\n"
      ],
      "text/plain": [
       "\u001b[1m Non-trainable params: \u001b[0m\u001b[38;5;34m0\u001b[0m (0.00 B)\n"
      ]
     },
     "metadata": {},
     "output_type": "display_data"
    }
   ],
   "source": [
    "model.summary()"
   ]
  },
  {
   "cell_type": "code",
   "execution_count": 28,
   "metadata": {},
   "outputs": [],
   "source": [
    "from tensorflow.keras.optimizers import Adam"
   ]
  },
  {
   "cell_type": "code",
   "execution_count": 29,
   "metadata": {},
   "outputs": [],
   "source": [
    "model.compile(optimizer=Adam(learning_rate=0.001), loss='mean_squared_error',metrics=['accuracy'])"
   ]
  },
  {
   "cell_type": "code",
   "execution_count": 30,
   "metadata": {},
   "outputs": [],
   "source": [
    "early_stopping = EarlyStopping(monitor=\"val_loss\",patience=10,restore_best_weights=True)"
   ]
  },
  {
   "cell_type": "code",
   "execution_count": 31,
   "metadata": {},
   "outputs": [
    {
     "name": "stdout",
     "output_type": "stream",
     "text": [
      "Epoch 1/100\n",
      "\u001b[1m86/86\u001b[0m \u001b[32m━━━━━━━━━━━━━━━━━━━━\u001b[0m\u001b[37m\u001b[0m \u001b[1m14s\u001b[0m 103ms/step - accuracy: 0.0011 - loss: 0.0878 - val_accuracy: 0.0000e+00 - val_loss: 0.0010\n",
      "Epoch 2/100\n",
      "\u001b[1m86/86\u001b[0m \u001b[32m━━━━━━━━━━━━━━━━━━━━\u001b[0m\u001b[37m\u001b[0m \u001b[1m8s\u001b[0m 92ms/step - accuracy: 5.4139e-04 - loss: 0.0130 - val_accuracy: 0.0000e+00 - val_loss: 0.0013\n",
      "Epoch 3/100\n",
      "\u001b[1m86/86\u001b[0m \u001b[32m━━━━━━━━━━━━━━━━━━━━\u001b[0m\u001b[37m\u001b[0m \u001b[1m8s\u001b[0m 98ms/step - accuracy: 0.0012 - loss: 0.0113 - val_accuracy: 0.0000e+00 - val_loss: 0.0011\n",
      "Epoch 4/100\n",
      "\u001b[1m86/86\u001b[0m \u001b[32m━━━━━━━━━━━━━━━━━━━━\u001b[0m\u001b[37m\u001b[0m \u001b[1m9s\u001b[0m 104ms/step - accuracy: 5.9210e-04 - loss: 0.0121 - val_accuracy: 0.0000e+00 - val_loss: 0.0018\n",
      "Epoch 5/100\n",
      "\u001b[1m86/86\u001b[0m \u001b[32m━━━━━━━━━━━━━━━━━━━━\u001b[0m\u001b[37m\u001b[0m \u001b[1m10s\u001b[0m 113ms/step - accuracy: 0.0011 - loss: 0.0098 - val_accuracy: 0.0000e+00 - val_loss: 6.7206e-04\n",
      "Epoch 6/100\n",
      "\u001b[1m86/86\u001b[0m \u001b[32m━━━━━━━━━━━━━━━━━━━━\u001b[0m\u001b[37m\u001b[0m \u001b[1m9s\u001b[0m 101ms/step - accuracy: 7.9047e-04 - loss: 0.0099 - val_accuracy: 0.0000e+00 - val_loss: 6.8571e-04\n",
      "Epoch 7/100\n",
      "\u001b[1m86/86\u001b[0m \u001b[32m━━━━━━━━━━━━━━━━━━━━\u001b[0m\u001b[37m\u001b[0m \u001b[1m8s\u001b[0m 91ms/step - accuracy: 2.4951e-04 - loss: 0.0082 - val_accuracy: 0.0000e+00 - val_loss: 0.0012\n",
      "Epoch 8/100\n",
      "\u001b[1m86/86\u001b[0m \u001b[32m━━━━━━━━━━━━━━━━━━━━\u001b[0m\u001b[37m\u001b[0m \u001b[1m8s\u001b[0m 95ms/step - accuracy: 6.5089e-04 - loss: 0.0082 - val_accuracy: 0.0000e+00 - val_loss: 5.0258e-04\n",
      "Epoch 9/100\n",
      "\u001b[1m86/86\u001b[0m \u001b[32m━━━━━━━━━━━━━━━━━━━━\u001b[0m\u001b[37m\u001b[0m \u001b[1m8s\u001b[0m 94ms/step - accuracy: 3.4820e-04 - loss: 0.0071 - val_accuracy: 0.0000e+00 - val_loss: 4.6337e-04\n",
      "Epoch 10/100\n",
      "\u001b[1m86/86\u001b[0m \u001b[32m━━━━━━━━━━━━━━━━━━━━\u001b[0m\u001b[37m\u001b[0m \u001b[1m8s\u001b[0m 97ms/step - accuracy: 3.5075e-04 - loss: 0.0081 - val_accuracy: 0.0000e+00 - val_loss: 7.6502e-04\n",
      "Epoch 11/100\n",
      "\u001b[1m86/86\u001b[0m \u001b[32m━━━━━━━━━━━━━━━━━━━━\u001b[0m\u001b[37m\u001b[0m \u001b[1m9s\u001b[0m 99ms/step - accuracy: 1.2981e-04 - loss: 0.0072 - val_accuracy: 0.0000e+00 - val_loss: 0.0017\n",
      "Epoch 12/100\n",
      "\u001b[1m86/86\u001b[0m \u001b[32m━━━━━━━━━━━━━━━━━━━━\u001b[0m\u001b[37m\u001b[0m \u001b[1m9s\u001b[0m 109ms/step - accuracy: 4.6155e-04 - loss: 0.0067 - val_accuracy: 0.0000e+00 - val_loss: 8.4681e-04\n",
      "Epoch 13/100\n",
      "\u001b[1m86/86\u001b[0m \u001b[32m━━━━━━━━━━━━━━━━━━━━\u001b[0m\u001b[37m\u001b[0m \u001b[1m9s\u001b[0m 102ms/step - accuracy: 4.7466e-04 - loss: 0.0065 - val_accuracy: 0.0000e+00 - val_loss: 5.8036e-04\n",
      "Epoch 14/100\n",
      "\u001b[1m86/86\u001b[0m \u001b[32m━━━━━━━━━━━━━━━━━━━━\u001b[0m\u001b[37m\u001b[0m \u001b[1m8s\u001b[0m 98ms/step - accuracy: 7.1839e-04 - loss: 0.0085 - val_accuracy: 0.0000e+00 - val_loss: 4.6418e-04\n",
      "Epoch 15/100\n",
      "\u001b[1m86/86\u001b[0m \u001b[32m━━━━━━━━━━━━━━━━━━━━\u001b[0m\u001b[37m\u001b[0m \u001b[1m9s\u001b[0m 99ms/step - accuracy: 0.0011 - loss: 0.0059 - val_accuracy: 0.0000e+00 - val_loss: 3.5381e-04\n",
      "Epoch 16/100\n",
      "\u001b[1m86/86\u001b[0m \u001b[32m━━━━━━━━━━━━━━━━━━━━\u001b[0m\u001b[37m\u001b[0m \u001b[1m9s\u001b[0m 101ms/step - accuracy: 0.0011 - loss: 0.0060 - val_accuracy: 0.0000e+00 - val_loss: 6.0765e-04\n",
      "Epoch 17/100\n",
      "\u001b[1m86/86\u001b[0m \u001b[32m━━━━━━━━━━━━━━━━━━━━\u001b[0m\u001b[37m\u001b[0m \u001b[1m9s\u001b[0m 101ms/step - accuracy: 6.0323e-04 - loss: 0.0057 - val_accuracy: 0.0000e+00 - val_loss: 6.8554e-04\n",
      "Epoch 18/100\n",
      "\u001b[1m86/86\u001b[0m \u001b[32m━━━━━━━━━━━━━━━━━━━━\u001b[0m\u001b[37m\u001b[0m \u001b[1m9s\u001b[0m 105ms/step - accuracy: 6.9480e-04 - loss: 0.0062 - val_accuracy: 0.0000e+00 - val_loss: 4.1842e-04\n",
      "Epoch 19/100\n",
      "\u001b[1m86/86\u001b[0m \u001b[32m━━━━━━━━━━━━━━━━━━━━\u001b[0m\u001b[37m\u001b[0m \u001b[1m10s\u001b[0m 114ms/step - accuracy: 6.6612e-04 - loss: 0.0055 - val_accuracy: 0.0000e+00 - val_loss: 4.7467e-04\n",
      "Epoch 20/100\n",
      "\u001b[1m86/86\u001b[0m \u001b[32m━━━━━━━━━━━━━━━━━━━━\u001b[0m\u001b[37m\u001b[0m \u001b[1m9s\u001b[0m 107ms/step - accuracy: 0.0011 - loss: 0.0053 - val_accuracy: 0.0000e+00 - val_loss: 4.8027e-04\n",
      "Epoch 21/100\n",
      "\u001b[1m86/86\u001b[0m \u001b[32m━━━━━━━━━━━━━━━━━━━━\u001b[0m\u001b[37m\u001b[0m \u001b[1m9s\u001b[0m 106ms/step - accuracy: 0.0014 - loss: 0.0047 - val_accuracy: 0.0000e+00 - val_loss: 0.0013\n",
      "Epoch 22/100\n",
      "\u001b[1m86/86\u001b[0m \u001b[32m━━━━━━━━━━━━━━━━━━━━\u001b[0m\u001b[37m\u001b[0m \u001b[1m9s\u001b[0m 107ms/step - accuracy: 0.0019 - loss: 0.0051 - val_accuracy: 0.0000e+00 - val_loss: 4.8748e-04\n",
      "Epoch 23/100\n",
      "\u001b[1m86/86\u001b[0m \u001b[32m━━━━━━━━━━━━━━━━━━━━\u001b[0m\u001b[37m\u001b[0m \u001b[1m9s\u001b[0m 108ms/step - accuracy: 0.0012 - loss: 0.0049 - val_accuracy: 0.0000e+00 - val_loss: 5.4321e-04\n",
      "Epoch 24/100\n",
      "\u001b[1m86/86\u001b[0m \u001b[32m━━━━━━━━━━━━━━━━━━━━\u001b[0m\u001b[37m\u001b[0m \u001b[1m9s\u001b[0m 109ms/step - accuracy: 0.0014 - loss: 0.0050 - val_accuracy: 0.0000e+00 - val_loss: 4.4307e-04\n",
      "Epoch 25/100\n",
      "\u001b[1m86/86\u001b[0m \u001b[32m━━━━━━━━━━━━━━━━━━━━\u001b[0m\u001b[37m\u001b[0m \u001b[1m10s\u001b[0m 121ms/step - accuracy: 0.0016 - loss: 0.0043 - val_accuracy: 0.0000e+00 - val_loss: 4.1872e-04\n"
     ]
    }
   ],
   "source": [
    "model_summary = model.fit(x_train, y_train, validation_data=(x_test, y_test), epochs=100, callbacks=early_stopping)"
   ]
  },
  {
   "cell_type": "code",
   "execution_count": 32,
   "metadata": {},
   "outputs": [
    {
     "name": "stdout",
     "output_type": "stream",
     "text": [
      "\u001b[1m19/19\u001b[0m \u001b[32m━━━━━━━━━━━━━━━━━━━━\u001b[0m\u001b[37m\u001b[0m \u001b[1m2s\u001b[0m 60ms/step\n"
     ]
    }
   ],
   "source": [
    "test_predict = model.predict(x_test)"
   ]
  },
  {
   "cell_type": "code",
   "execution_count": 33,
   "metadata": {},
   "outputs": [],
   "source": [
    "test_predict = scaler.inverse_transform(test_predict)"
   ]
  },
  {
   "cell_type": "code",
   "execution_count": 34,
   "metadata": {},
   "outputs": [],
   "source": [
    "import math\n",
    "from sklearn.metrics import mean_squared_error"
   ]
  },
  {
   "cell_type": "code",
   "execution_count": 35,
   "metadata": {},
   "outputs": [
    {
     "data": {
      "text/plain": [
       "266.5188578591251"
      ]
     },
     "execution_count": 35,
     "metadata": {},
     "output_type": "execute_result"
    }
   ],
   "source": [
    "math.sqrt(mean_squared_error(y_test,test_predict))"
   ]
  },
  {
   "cell_type": "code",
   "execution_count": 36,
   "metadata": {},
   "outputs": [
    {
     "name": "stderr",
     "output_type": "stream",
     "text": [
      "WARNING:absl:You are saving your model as an HDF5 file via `model.save()` or `keras.saving.save_model(model)`. This file format is considered legacy. We recommend using instead the native Keras format, e.g. `model.save('my_model.keras')` or `keras.saving.save_model(model, 'my_model.keras')`. \n"
     ]
    }
   ],
   "source": [
    "# export model\n",
    "\n",
    "model.save(\"model_ACI.h5\") "
   ]
  },
  {
   "cell_type": "code",
   "execution_count": 37,
   "metadata": {},
   "outputs": [],
   "source": [
    "from tensorflow.keras.models import load_model"
   ]
  },
  {
   "cell_type": "code",
   "execution_count": 39,
   "metadata": {},
   "outputs": [
    {
     "name": "stderr",
     "output_type": "stream",
     "text": [
      "WARNING:absl:Compiled the loaded model, but the compiled metrics have yet to be built. `model.compile_metrics` will be empty until you train or evaluate the model.\n"
     ]
    }
   ],
   "source": [
    "test_model = load_model('./model_ACI.h5')"
   ]
  },
  {
   "cell_type": "code",
   "execution_count": 40,
   "metadata": {},
   "outputs": [
    {
     "name": "stdout",
     "output_type": "stream",
     "text": [
      "\u001b[1m19/19\u001b[0m \u001b[32m━━━━━━━━━━━━━━━━━━━━\u001b[0m\u001b[37m\u001b[0m \u001b[1m1s\u001b[0m 51ms/step\n"
     ]
    }
   ],
   "source": [
    "pred = test_model.predict(x_test)"
   ]
  },
  {
   "cell_type": "code",
   "execution_count": 41,
   "metadata": {},
   "outputs": [],
   "source": [
    "pred = scaler.inverse_transform(pred)"
   ]
  },
  {
   "cell_type": "code",
   "execution_count": 42,
   "metadata": {},
   "outputs": [
    {
     "name": "stdout",
     "output_type": "stream",
     "text": [
      "[[264.71594]\n",
      " [269.6264 ]\n",
      " [274.02286]\n",
      " [277.0064 ]\n",
      " [278.0572 ]\n",
      " [278.10074]\n",
      " [277.85046]\n",
      " [277.92197]\n",
      " [277.94827]\n",
      " [278.60623]\n",
      " [280.05652]\n",
      " [279.84833]\n",
      " [277.73642]\n",
      " [274.23422]\n",
      " [270.81528]\n",
      " [267.3593 ]\n",
      " [262.9376 ]\n",
      " [258.8012 ]\n",
      " [254.90382]\n",
      " [250.87177]\n",
      " [246.76392]\n",
      " [242.1212 ]\n",
      " [238.00124]\n",
      " [233.8728 ]\n",
      " [228.9602 ]\n",
      " [223.86086]\n",
      " [219.21552]\n",
      " [215.05754]\n",
      " [211.4817 ]\n",
      " [208.80191]\n",
      " [207.02719]\n",
      " [205.99687]\n",
      " [205.59377]\n",
      " [205.95668]\n",
      " [206.46654]\n",
      " [206.29715]\n",
      " [205.55287]\n",
      " [204.22833]\n",
      " [202.35771]\n",
      " [200.47585]\n",
      " [199.14359]\n",
      " [198.31703]\n",
      " [197.73885]\n",
      " [197.08107]\n",
      " [196.29324]\n",
      " [195.43822]\n",
      " [194.5651 ]\n",
      " [193.74353]\n",
      " [193.0562 ]\n",
      " [192.29712]\n",
      " [191.44832]\n",
      " [190.56328]\n",
      " [189.89116]\n",
      " [189.63109]\n",
      " [189.54799]\n",
      " [189.63275]\n",
      " [189.76343]\n",
      " [190.03221]\n",
      " [190.32184]\n",
      " [190.74974]\n",
      " [191.56393]\n",
      " [193.13466]\n",
      " [195.92055]\n",
      " [197.93756]\n",
      " [198.599  ]\n",
      " [198.60164]\n",
      " [197.81554]\n",
      " [196.23091]\n",
      " [193.8327 ]\n",
      " [191.10837]\n",
      " [188.62048]\n",
      " [186.85774]\n",
      " [185.91125]\n",
      " [185.3111 ]\n",
      " [184.59708]\n",
      " [183.94046]\n",
      " [183.474  ]\n",
      " [183.18063]\n",
      " [183.01   ]\n",
      " [182.9985 ]\n",
      " [183.08823]\n",
      " [183.38924]\n",
      " [183.93687]\n",
      " [184.70383]\n",
      " [185.52393]\n",
      " [186.48901]\n",
      " [187.52812]\n",
      " [188.63525]\n",
      " [189.9591 ]\n",
      " [191.43973]\n",
      " [192.75708]\n",
      " [193.01073]\n",
      " [192.26143]\n",
      " [190.89557]\n",
      " [189.21904]\n",
      " [187.51642]\n",
      " [186.00117]\n",
      " [184.7928 ]\n",
      " [183.80325]\n",
      " [182.94427]\n",
      " [182.36226]\n",
      " [182.12917]\n",
      " [182.77794]\n",
      " [184.1318 ]\n",
      " [185.92978]\n",
      " [188.03615]\n",
      " [190.11043]\n",
      " [191.39474]\n",
      " [191.91232]\n",
      " [191.96478]\n",
      " [191.66496]\n",
      " [190.94194]\n",
      " [189.79596]\n",
      " [188.4011 ]\n",
      " [187.04361]\n",
      " [186.00565]\n",
      " [185.27057]\n",
      " [184.84059]\n",
      " [184.7245 ]\n",
      " [184.83356]\n",
      " [185.25972]\n",
      " [186.11328]\n",
      " [186.73767]\n",
      " [194.60188]\n",
      " [215.19524]\n",
      " [240.82841]\n",
      " [264.62198]\n",
      " [282.9235 ]\n",
      " [294.57693]\n",
      " [300.1839 ]\n",
      " [300.45322]\n",
      " [297.2493 ]\n",
      " [292.81064]\n",
      " [288.72498]\n",
      " [285.83145]\n",
      " [284.72354]\n",
      " [285.53735]\n",
      " [288.23587]\n",
      " [291.6797 ]\n",
      " [295.0313 ]\n",
      " [298.00034]\n",
      " [300.7291 ]\n",
      " [302.17783]\n",
      " [301.75842]\n",
      " [299.30237]\n",
      " [296.67413]\n",
      " [295.21912]\n",
      " [295.89722]\n",
      " [298.7356 ]\n",
      " [303.25092]\n",
      " [306.93085]\n",
      " [307.96695]\n",
      " [311.70505]\n",
      " [317.52017]\n",
      " [323.72662]\n",
      " [329.254  ]\n",
      " [332.29953]\n",
      " [331.41068]\n",
      " [327.7447 ]\n",
      " [321.40417]\n",
      " [314.22714]\n",
      " [307.915  ]\n",
      " [304.01297]\n",
      " [302.5924 ]\n",
      " [303.71445]\n",
      " [307.0698 ]\n",
      " [311.56775]\n",
      " [315.71777]\n",
      " [318.6244 ]\n",
      " [319.94418]\n",
      " [318.49722]\n",
      " [315.8476 ]\n",
      " [313.7378 ]\n",
      " [312.39685]\n",
      " [311.94272]\n",
      " [312.87958]\n",
      " [315.8397 ]\n",
      " [319.8176 ]\n",
      " [325.22342]\n",
      " [331.64734]\n",
      " [336.7213 ]\n",
      " [337.9609 ]\n",
      " [334.96667]\n",
      " [327.85928]\n",
      " [319.585  ]\n",
      " [312.55792]\n",
      " [306.12732]\n",
      " [300.81497]\n",
      " [297.4474 ]\n",
      " [296.34625]\n",
      " [296.88684]\n",
      " [298.85165]\n",
      " [301.69534]\n",
      " [304.59952]\n",
      " [306.73367]\n",
      " [307.9567 ]\n",
      " [308.7326 ]\n",
      " [309.2724 ]\n",
      " [309.2241 ]\n",
      " [309.82706]\n",
      " [311.17682]\n",
      " [313.6608 ]\n",
      " [315.94016]\n",
      " [317.3779 ]\n",
      " [317.58185]\n",
      " [317.16345]\n",
      " [316.84564]\n",
      " [315.9416 ]\n",
      " [314.9805 ]\n",
      " [312.6553 ]\n",
      " [308.0736 ]\n",
      " [302.0127 ]\n",
      " [295.90546]\n",
      " [290.6199 ]\n",
      " [287.0143 ]\n",
      " [284.77917]\n",
      " [283.96167]\n",
      " [284.80627]\n",
      " [286.94635]\n",
      " [289.2177 ]\n",
      " [291.47418]\n",
      " [293.5359 ]\n",
      " [295.86285]\n",
      " [296.95926]\n",
      " [295.84946]\n",
      " [293.31735]\n",
      " [289.81754]\n",
      " [285.24084]\n",
      " [280.00903]\n",
      " [274.98386]\n",
      " [271.16647]\n",
      " [268.86462]\n",
      " [268.11273]\n",
      " [268.6286 ]\n",
      " [269.83255]\n",
      " [271.17178]\n",
      " [271.58295]\n",
      " [270.9789 ]\n",
      " [269.70322]\n",
      " [268.47992]\n",
      " [266.8641 ]\n",
      " [265.4467 ]\n",
      " [264.51096]\n",
      " [263.60632]\n",
      " [262.58557]\n",
      " [262.175  ]\n",
      " [262.26508]\n",
      " [262.91248]\n",
      " [263.9127 ]\n",
      " [265.08005]\n",
      " [265.96182]\n",
      " [266.4433 ]\n",
      " [267.35123]\n",
      " [268.55453]\n",
      " [268.87717]\n",
      " [268.51874]\n",
      " [267.38647]\n",
      " [265.96432]\n",
      " [264.4559 ]\n",
      " [262.212  ]\n",
      " [258.74072]\n",
      " [254.85286]\n",
      " [251.26495]\n",
      " [248.4258 ]\n",
      " [246.59615]\n",
      " [245.95906]\n",
      " [246.50371]\n",
      " [248.74182]\n",
      " [251.9306 ]\n",
      " [255.06537]\n",
      " [258.49765]\n",
      " [262.20673]\n",
      " [264.2123 ]\n",
      " [264.24152]\n",
      " [262.78345]\n",
      " [260.78516]\n",
      " [258.7847 ]\n",
      " [256.20297]\n",
      " [252.7508 ]\n",
      " [249.10144]\n",
      " [246.05896]\n",
      " [244.01646]\n",
      " [242.84683]\n",
      " [242.47961]\n",
      " [242.80557]\n",
      " [243.50842]\n",
      " [244.42273]\n",
      " [245.20763]\n",
      " [245.79494]\n",
      " [246.19426]\n",
      " [246.2813 ]\n",
      " [245.73079]\n",
      " [244.47633]\n",
      " [242.76671]\n",
      " [240.36354]\n",
      " [237.36882]\n",
      " [234.75575]\n",
      " [233.58621]\n",
      " [233.75269]\n",
      " [234.17279]\n",
      " [234.14342]\n",
      " [235.21732]\n",
      " [237.22293]\n",
      " [239.94406]\n",
      " [242.7153 ]\n",
      " [245.0685 ]\n",
      " [246.6057 ]\n",
      " [247.52306]\n",
      " [247.93439]\n",
      " [248.31877]\n",
      " [249.09387]\n",
      " [250.59218]\n",
      " [251.94652]\n",
      " [252.76169]\n",
      " [253.04054]\n",
      " [252.69455]\n",
      " [252.61902]\n",
      " [253.23851]\n",
      " [254.11093]\n",
      " [254.09915]\n",
      " [252.80014]\n",
      " [250.73276]\n",
      " [248.3704 ]\n",
      " [246.1835 ]\n",
      " [244.57738]\n",
      " [243.69788]\n",
      " [243.256  ]\n",
      " [243.06807]\n",
      " [243.17601]\n",
      " [243.38486]\n",
      " [243.78378]\n",
      " [243.95123]\n",
      " [244.08865]\n",
      " [244.18921]\n",
      " [244.59224]\n",
      " [245.65294]\n",
      " [247.08418]\n",
      " [249.0404 ]\n",
      " [251.34637]\n",
      " [253.54718]\n",
      " [255.21925]\n",
      " [256.66986]\n",
      " [258.32428]\n",
      " [259.63657]\n",
      " [260.44443]\n",
      " [260.63004]\n",
      " [260.80096]\n",
      " [261.82098]\n",
      " [263.23608]\n",
      " [264.40073]\n",
      " [265.5542 ]\n",
      " [266.06152]\n",
      " [265.33392]\n",
      " [263.59042]\n",
      " [261.27094]\n",
      " [258.9215 ]\n",
      " [257.48788]\n",
      " [255.79686]\n",
      " [253.60844]\n",
      " [251.32065]\n",
      " [249.416  ]\n",
      " [248.26625]\n",
      " [247.95833]\n",
      " [249.82745]\n",
      " [253.44714]\n",
      " [257.61905]\n",
      " [261.26825]\n",
      " [263.82062]\n",
      " [265.136  ]\n",
      " [265.3827 ]\n",
      " [264.88348]\n",
      " [263.99142]\n",
      " [263.00458]\n",
      " [262.13467]\n",
      " [261.49893]\n",
      " [261.133  ]\n",
      " [261.01334]\n",
      " [261.0779 ]\n",
      " [261.2525 ]\n",
      " [261.46954]\n",
      " [261.6781 ]\n",
      " [261.84747]\n",
      " [261.9651 ]\n",
      " [262.03198]\n",
      " [262.05768]\n",
      " [262.05505]\n",
      " [262.0368 ]\n",
      " [262.01337]\n",
      " [261.9918 ]\n",
      " [261.97577]\n",
      " [261.96655]\n",
      " [261.96344]\n",
      " [263.72623]\n",
      " [266.94916]\n",
      " [270.63403]\n",
      " [273.84393]\n",
      " [276.0586 ]\n",
      " [277.15482]\n",
      " [277.29733]\n",
      " [276.77908]\n",
      " [275.91772]\n",
      " [275.14905]\n",
      " [274.56903]\n",
      " [274.14105]\n",
      " [273.87357]\n",
      " [273.71298]\n",
      " [273.6531 ]\n",
      " [273.66232]\n",
      " [273.7183 ]\n",
      " [273.80133]\n",
      " [273.8939 ]\n",
      " [273.98193]\n",
      " [274.4592 ]\n",
      " [275.65118]\n",
      " [276.43954]\n",
      " [276.56866]\n",
      " [276.28485]\n",
      " [275.7073 ]\n",
      " [275.24847]\n",
      " [274.82547]\n",
      " [274.4346 ]\n",
      " [274.4044 ]\n",
      " [274.86356]\n",
      " [275.37637]\n",
      " [276.03214]\n",
      " [276.4084 ]\n",
      " [276.38873]\n",
      " [276.09998]\n",
      " [275.6815 ]\n",
      " [275.553  ]\n",
      " [275.92685]\n",
      " [276.85678]\n",
      " [278.36584]\n",
      " [280.06314]\n",
      " [281.28043]\n",
      " [282.09515]\n",
      " [282.7465 ]\n",
      " [283.46088]\n",
      " [284.2067 ]\n",
      " [284.9666 ]\n",
      " [285.83267]\n",
      " [286.8812 ]\n",
      " [287.344  ]\n",
      " [286.94632]\n",
      " [286.2245 ]\n",
      " [285.09668]\n",
      " [283.66046]\n",
      " [282.1301 ]\n",
      " [280.75043]\n",
      " [279.6713 ]\n",
      " [279.25513]\n",
      " [279.6811 ]\n",
      " [280.81595]\n",
      " [281.97617]\n",
      " [282.43735]\n",
      " [282.1156 ]\n",
      " [280.89417]\n",
      " [279.0226 ]\n",
      " [277.0508 ]\n",
      " [275.33688]\n",
      " [274.66306]\n",
      " [274.94672]\n",
      " [275.7336 ]\n",
      " [276.70724]\n",
      " [277.54477]\n",
      " [277.68787]\n",
      " [277.29315]\n",
      " [276.25015]\n",
      " [274.89517]\n",
      " [273.88727]\n",
      " [273.75818]\n",
      " [273.86392]\n",
      " [274.47952]\n",
      " [275.08694]\n",
      " [275.1816 ]\n",
      " [275.5126 ]\n",
      " [276.92133]\n",
      " [278.59802]\n",
      " [279.89703]\n",
      " [280.60934]\n",
      " [280.77832]\n",
      " [280.73608]\n",
      " [280.66623]\n",
      " [280.66235]\n",
      " [280.5891 ]\n",
      " [280.9494 ]\n",
      " [281.34277]\n",
      " [281.72147]\n",
      " [281.80786]\n",
      " [281.4219 ]\n",
      " [280.73782]\n",
      " [280.23557]\n",
      " [279.8904 ]\n",
      " [279.83966]\n",
      " [280.27463]\n",
      " [280.75928]\n",
      " [281.08173]\n",
      " [280.8617 ]\n",
      " [280.00714]\n",
      " [278.80392]\n",
      " [277.83936]\n",
      " [277.34955]\n",
      " [277.31458]\n",
      " [277.59396]\n",
      " [278.54926]\n",
      " [280.00052]\n",
      " [281.47522]\n",
      " [282.35873]\n",
      " [282.66968]\n",
      " [282.90134]\n",
      " [282.3556 ]\n",
      " [280.69626]\n",
      " [278.44977]\n",
      " [276.64468]\n",
      " [274.814  ]\n",
      " [273.73148]\n",
      " [273.70956]\n",
      " [275.14404]\n",
      " [277.504  ]\n",
      " [281.6288 ]\n",
      " [286.59167]\n",
      " [292.68643]\n",
      " [298.47305]\n",
      " [301.3675 ]\n",
      " [301.3158 ]\n",
      " [298.98376]\n",
      " [295.65808]\n",
      " [292.39603]\n",
      " [289.47437]\n",
      " [287.57483]\n",
      " [286.73315]\n",
      " [286.23737]\n",
      " [285.39694]\n",
      " [283.95737]\n",
      " [282.64627]\n",
      " [281.91702]\n",
      " [282.02985]\n",
      " [283.14172]\n",
      " [284.8144 ]\n",
      " [286.34732]\n",
      " [287.42535]\n",
      " [288.10086]\n",
      " [288.40155]\n",
      " [288.66876]\n",
      " [289.49442]\n",
      " [290.54358]\n",
      " [291.71704]\n",
      " [293.01617]\n",
      " [293.33374]\n",
      " [292.4839 ]\n",
      " [290.95486]\n",
      " [289.25058]\n",
      " [287.4617 ]\n",
      " [286.15442]\n",
      " [285.79245]\n",
      " [285.97934]\n",
      " [286.61096]\n",
      " [287.79974]\n",
      " [288.74496]\n",
      " [289.04126]\n",
      " [288.01413]\n",
      " [285.36414]\n",
      " [283.2468 ]\n",
      " [282.47495]\n",
      " [283.02023]\n",
      " [284.87695]\n",
      " [287.5211 ]\n",
      " [289.67935]\n",
      " [291.6337 ]\n",
      " [293.5641 ]\n",
      " [295.11667]\n",
      " [296.13406]\n",
      " [297.2245 ]\n",
      " [298.5362 ]\n",
      " [299.70148]\n",
      " [300.7854 ]\n",
      " [301.7746 ]\n",
      " [303.10477]\n",
      " [304.0277 ]\n",
      " [304.8446 ]\n",
      " [305.78775]\n",
      " [306.75787]\n",
      " [306.65317]\n",
      " [305.6256 ]\n",
      " [304.37973]\n",
      " [303.53876]\n",
      " [303.71   ]\n",
      " [304.8648 ]\n",
      " [307.4875 ]\n",
      " [311.41687]\n",
      " [315.16116]\n",
      " [317.91147]\n",
      " [320.89624]\n",
      " [322.5517 ]\n",
      " [319.43033]\n",
      " [312.3272 ]\n",
      " [303.26337]\n",
      " [294.7885 ]\n",
      " [288.04544]\n",
      " [284.45856]\n",
      " [283.4183 ]\n",
      " [284.03207]\n",
      " [285.97217]\n",
      " [288.61984]\n",
      " [292.0613 ]]\n"
     ]
    }
   ],
   "source": [
    "print(pred)"
   ]
  },
  {
   "cell_type": "code",
   "execution_count": 43,
   "metadata": {},
   "outputs": [
    {
     "data": {
      "text/plain": [
       "dict_keys(['accuracy', 'loss', 'val_accuracy', 'val_loss'])"
      ]
     },
     "execution_count": 43,
     "metadata": {},
     "output_type": "execute_result"
    }
   ],
   "source": [
    "model_summary.history.keys()"
   ]
  },
  {
   "cell_type": "code",
   "execution_count": 44,
   "metadata": {},
   "outputs": [
    {
     "data": {
      "image/png": "[encoded data removed]",
      "text/plain": [
       "<Figure size 640x480 with 1 Axes>"
      ]
     },
     "metadata": {},
     "output_type": "display_data"
    },
    {
     "data": {
      "image/png": "[encoded data removed]",
      "text/plain": [
       "<Figure size 640x480 with 1 Axes>"
      ]
     },
     "metadata": {},
     "output_type": "display_data"
    }
   ],
   "source": [
    "plt.plot(model_summary.history['accuracy'])\n",
    "plt.plot(model_summary.history['val_accuracy'])\n",
    "plt.title('model accuracy')\n",
    "plt.ylabel('accuracy')\n",
    "plt.xlabel('epoch')\n",
    "plt.legend(['train', 'test'], loc='upper left')\n",
    "plt.show()\n",
    "# summarize history for loss\n",
    "plt.plot(model_summary.history['loss'])\n",
    "plt.plot(model_summary.history['val_loss'])\n",
    "plt.title('model loss')\n",
    "plt.ylabel('loss')\n",
    "plt.xlabel('epoch')\n",
    "plt.legend(['train', 'test'], loc='upper left')\n",
    "plt.show()\n"
   ]
  },
  {
   "cell_type": "code",
   "execution_count": 45,
   "metadata": {},
   "outputs": [
    {
     "data": {
      "image/png": "[encoded data removed]",
      "text/plain": [
       "<Figure size 640x480 with 1 Axes>"
      ]
     },
     "metadata": {},
     "output_type": "display_data"
    }
   ],
   "source": [
    "accuracy = model_summary.history['accuracy']\n",
    "epochs = range(1, len(accuracy) + 1)\n",
    "plt.plot(epochs, accuracy)\n",
    "plt.show()"
   ]
  }
 ],
 "metadata": {
  "kernelspec": {
   "display_name": "Python 3",
   "language": "python",
   "name": "python3"
  },
  "language_info": {
   "codemirror_mode": {
    "name": "ipython",
    "version": 3
   },
   "file_extension": ".py",
   "mimetype": "text/x-python",
   "name": "python",
   "nbconvert_exporter": "python",
   "pygments_lexer": "ipython3",
   "version": "3.10.5"
  }
 },
 "nbformat": 4,
 "nbformat_minor": 2
}
