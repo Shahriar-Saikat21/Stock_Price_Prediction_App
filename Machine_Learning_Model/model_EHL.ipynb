{
 "cells": [
  {
   "cell_type": "code",
   "execution_count": 1,
   "metadata": {},
   "outputs": [],
   "source": [
    "import numpy as np\n",
    "import pandas as pd\n",
    "import matplotlib.pyplot as plt"
   ]
  },
  {
   "cell_type": "code",
   "execution_count": 2,
   "metadata": {},
   "outputs": [
    {
     "data": {
      "text/html": [
       "<div>\n",
       "<style scoped>\n",
       "    .dataframe tbody tr th:only-of-type {\n",
       "        vertical-align: middle;\n",
       "    }\n",
       "\n",
       "    .dataframe tbody tr th {\n",
       "        vertical-align: top;\n",
       "    }\n",
       "\n",
       "    .dataframe thead th {\n",
       "        text-align: right;\n",
       "    }\n",
       "</style>\n",
       "<table border=\"1\" class=\"dataframe\">\n",
       "  <thead>\n",
       "    <tr style=\"text-align: right;\">\n",
       "      <th></th>\n",
       "      <th>date</th>\n",
       "      <th>trading_code</th>\n",
       "      <th>last_traded_price</th>\n",
       "      <th>high</th>\n",
       "      <th>low</th>\n",
       "      <th>opening_price</th>\n",
       "      <th>closing_price</th>\n",
       "      <th>yesterdays_closing_price</th>\n",
       "      <th>trade</th>\n",
       "      <th>value_mn</th>\n",
       "      <th>volume</th>\n",
       "    </tr>\n",
       "  </thead>\n",
       "  <tbody>\n",
       "    <tr>\n",
       "      <th>0</th>\n",
       "      <td>12/30/2008 0:00</td>\n",
       "      <td>EHL</td>\n",
       "      <td>246.00</td>\n",
       "      <td>250.00</td>\n",
       "      <td>228.0</td>\n",
       "      <td>250.0</td>\n",
       "      <td>245.75</td>\n",
       "      <td>232.75</td>\n",
       "      <td>478.0</td>\n",
       "      <td>9.1081</td>\n",
       "      <td>37580.0</td>\n",
       "    </tr>\n",
       "    <tr>\n",
       "      <th>1</th>\n",
       "      <td>12/28/2008 0:00</td>\n",
       "      <td>EHL</td>\n",
       "      <td>233.75</td>\n",
       "      <td>234.75</td>\n",
       "      <td>225.5</td>\n",
       "      <td>226.5</td>\n",
       "      <td>232.75</td>\n",
       "      <td>225.75</td>\n",
       "      <td>394.0</td>\n",
       "      <td>6.8280</td>\n",
       "      <td>29500.0</td>\n",
       "    </tr>\n",
       "    <tr>\n",
       "      <th>2</th>\n",
       "      <td>12/24/2008 0:00</td>\n",
       "      <td>EHL</td>\n",
       "      <td>226.00</td>\n",
       "      <td>231.00</td>\n",
       "      <td>223.0</td>\n",
       "      <td>223.0</td>\n",
       "      <td>225.75</td>\n",
       "      <td>221.50</td>\n",
       "      <td>528.0</td>\n",
       "      <td>8.9187</td>\n",
       "      <td>39260.0</td>\n",
       "    </tr>\n",
       "    <tr>\n",
       "      <th>3</th>\n",
       "      <td>12/23/2008 0:00</td>\n",
       "      <td>EHL</td>\n",
       "      <td>222.75</td>\n",
       "      <td>224.00</td>\n",
       "      <td>218.5</td>\n",
       "      <td>218.5</td>\n",
       "      <td>221.50</td>\n",
       "      <td>220.25</td>\n",
       "      <td>184.0</td>\n",
       "      <td>2.5838</td>\n",
       "      <td>11680.0</td>\n",
       "    </tr>\n",
       "    <tr>\n",
       "      <th>4</th>\n",
       "      <td>12/22/2008 0:00</td>\n",
       "      <td>EHL</td>\n",
       "      <td>221.00</td>\n",
       "      <td>226.00</td>\n",
       "      <td>215.0</td>\n",
       "      <td>226.0</td>\n",
       "      <td>220.25</td>\n",
       "      <td>223.50</td>\n",
       "      <td>381.0</td>\n",
       "      <td>5.5071</td>\n",
       "      <td>24860.0</td>\n",
       "    </tr>\n",
       "  </tbody>\n",
       "</table>\n",
       "</div>"
      ],
      "text/plain": [
       "              date trading_code  last_traded_price    high    low  \\\n",
       "0  12/30/2008 0:00          EHL             246.00  250.00  228.0   \n",
       "1  12/28/2008 0:00          EHL             233.75  234.75  225.5   \n",
       "2  12/24/2008 0:00          EHL             226.00  231.00  223.0   \n",
       "3  12/23/2008 0:00          EHL             222.75  224.00  218.5   \n",
       "4  12/22/2008 0:00          EHL             221.00  226.00  215.0   \n",
       "\n",
       "   opening_price  closing_price  yesterdays_closing_price  trade  value_mn  \\\n",
       "0          250.0         245.75                    232.75  478.0    9.1081   \n",
       "1          226.5         232.75                    225.75  394.0    6.8280   \n",
       "2          223.0         225.75                    221.50  528.0    8.9187   \n",
       "3          218.5         221.50                    220.25  184.0    2.5838   \n",
       "4          226.0         220.25                    223.50  381.0    5.5071   \n",
       "\n",
       "    volume  \n",
       "0  37580.0  \n",
       "1  29500.0  \n",
       "2  39260.0  \n",
       "3  11680.0  \n",
       "4  24860.0  "
      ]
     },
     "execution_count": 2,
     "metadata": {},
     "output_type": "execute_result"
    }
   ],
   "source": [
    "# read the data\n",
    "dataset = pd.read_csv('./data/data_for_EHL.csv')\n",
    "dataset.head()"
   ]
  },
  {
   "cell_type": "code",
   "execution_count": 3,
   "metadata": {},
   "outputs": [
    {
     "data": {
      "text/html": [
       "<div>\n",
       "<style scoped>\n",
       "    .dataframe tbody tr th:only-of-type {\n",
       "        vertical-align: middle;\n",
       "    }\n",
       "\n",
       "    .dataframe tbody tr th {\n",
       "        vertical-align: top;\n",
       "    }\n",
       "\n",
       "    .dataframe thead th {\n",
       "        text-align: right;\n",
       "    }\n",
       "</style>\n",
       "<table border=\"1\" class=\"dataframe\">\n",
       "  <thead>\n",
       "    <tr style=\"text-align: right;\">\n",
       "      <th></th>\n",
       "      <th>date</th>\n",
       "      <th>trading_code</th>\n",
       "      <th>last_traded_price</th>\n",
       "      <th>high</th>\n",
       "      <th>low</th>\n",
       "      <th>opening_price</th>\n",
       "      <th>closing_price</th>\n",
       "      <th>yesterdays_closing_price</th>\n",
       "      <th>trade</th>\n",
       "      <th>value_mn</th>\n",
       "      <th>volume</th>\n",
       "    </tr>\n",
       "  </thead>\n",
       "  <tbody>\n",
       "    <tr>\n",
       "      <th>3526</th>\n",
       "      <td>01/06/2022 0:00</td>\n",
       "      <td>EHL</td>\n",
       "      <td>52.4</td>\n",
       "      <td>52.9</td>\n",
       "      <td>50.6</td>\n",
       "      <td>50.7</td>\n",
       "      <td>52.4</td>\n",
       "      <td>50.8</td>\n",
       "      <td>501.0</td>\n",
       "      <td>16.983</td>\n",
       "      <td>326890.0</td>\n",
       "    </tr>\n",
       "    <tr>\n",
       "      <th>3527</th>\n",
       "      <td>01/05/2022 0:00</td>\n",
       "      <td>EHL</td>\n",
       "      <td>50.8</td>\n",
       "      <td>52.0</td>\n",
       "      <td>50.0</td>\n",
       "      <td>50.3</td>\n",
       "      <td>50.8</td>\n",
       "      <td>49.7</td>\n",
       "      <td>354.0</td>\n",
       "      <td>8.756</td>\n",
       "      <td>171221.0</td>\n",
       "    </tr>\n",
       "    <tr>\n",
       "      <th>3528</th>\n",
       "      <td>01/04/2022 0:00</td>\n",
       "      <td>EHL</td>\n",
       "      <td>50.0</td>\n",
       "      <td>51.4</td>\n",
       "      <td>49.6</td>\n",
       "      <td>51.4</td>\n",
       "      <td>49.7</td>\n",
       "      <td>50.4</td>\n",
       "      <td>147.0</td>\n",
       "      <td>2.648</td>\n",
       "      <td>53190.0</td>\n",
       "    </tr>\n",
       "    <tr>\n",
       "      <th>3529</th>\n",
       "      <td>01/03/2022 0:00</td>\n",
       "      <td>EHL</td>\n",
       "      <td>50.4</td>\n",
       "      <td>52.5</td>\n",
       "      <td>48.5</td>\n",
       "      <td>48.6</td>\n",
       "      <td>50.4</td>\n",
       "      <td>48.5</td>\n",
       "      <td>481.0</td>\n",
       "      <td>13.441</td>\n",
       "      <td>266560.0</td>\n",
       "    </tr>\n",
       "    <tr>\n",
       "      <th>3530</th>\n",
       "      <td>01/02/2022 0:00</td>\n",
       "      <td>EHL</td>\n",
       "      <td>48.5</td>\n",
       "      <td>49.0</td>\n",
       "      <td>47.0</td>\n",
       "      <td>47.4</td>\n",
       "      <td>48.5</td>\n",
       "      <td>46.8</td>\n",
       "      <td>133.0</td>\n",
       "      <td>3.864</td>\n",
       "      <td>80610.0</td>\n",
       "    </tr>\n",
       "  </tbody>\n",
       "</table>\n",
       "</div>"
      ],
      "text/plain": [
       "                 date trading_code  last_traded_price  high   low  \\\n",
       "3526  01/06/2022 0:00          EHL               52.4  52.9  50.6   \n",
       "3527  01/05/2022 0:00          EHL               50.8  52.0  50.0   \n",
       "3528  01/04/2022 0:00          EHL               50.0  51.4  49.6   \n",
       "3529  01/03/2022 0:00          EHL               50.4  52.5  48.5   \n",
       "3530  01/02/2022 0:00          EHL               48.5  49.0  47.0   \n",
       "\n",
       "      opening_price  closing_price  yesterdays_closing_price  trade  value_mn  \\\n",
       "3526           50.7           52.4                      50.8  501.0    16.983   \n",
       "3527           50.3           50.8                      49.7  354.0     8.756   \n",
       "3528           51.4           49.7                      50.4  147.0     2.648   \n",
       "3529           48.6           50.4                      48.5  481.0    13.441   \n",
       "3530           47.4           48.5                      46.8  133.0     3.864   \n",
       "\n",
       "        volume  \n",
       "3526  326890.0  \n",
       "3527  171221.0  \n",
       "3528   53190.0  \n",
       "3529  266560.0  \n",
       "3530   80610.0  "
      ]
     },
     "execution_count": 3,
     "metadata": {},
     "output_type": "execute_result"
    }
   ],
   "source": [
    "dataset.tail()"
   ]
  },
  {
   "cell_type": "code",
   "execution_count": 4,
   "metadata": {},
   "outputs": [],
   "source": [
    "dataset['date'] = pd.to_datetime(dataset.date)"
   ]
  },
  {
   "cell_type": "code",
   "execution_count": 5,
   "metadata": {},
   "outputs": [],
   "source": [
    "dataset = dataset.sort_values(by=['date'])"
   ]
  },
  {
   "cell_type": "code",
   "execution_count": 6,
   "metadata": {},
   "outputs": [
    {
     "data": {
      "text/html": [
       "<div>\n",
       "<style scoped>\n",
       "    .dataframe tbody tr th:only-of-type {\n",
       "        vertical-align: middle;\n",
       "    }\n",
       "\n",
       "    .dataframe tbody tr th {\n",
       "        vertical-align: top;\n",
       "    }\n",
       "\n",
       "    .dataframe thead th {\n",
       "        text-align: right;\n",
       "    }\n",
       "</style>\n",
       "<table border=\"1\" class=\"dataframe\">\n",
       "  <thead>\n",
       "    <tr style=\"text-align: right;\">\n",
       "      <th></th>\n",
       "      <th>date</th>\n",
       "      <th>trading_code</th>\n",
       "      <th>last_traded_price</th>\n",
       "      <th>high</th>\n",
       "      <th>low</th>\n",
       "      <th>opening_price</th>\n",
       "      <th>closing_price</th>\n",
       "      <th>yesterdays_closing_price</th>\n",
       "      <th>trade</th>\n",
       "      <th>value_mn</th>\n",
       "      <th>volume</th>\n",
       "    </tr>\n",
       "  </thead>\n",
       "  <tbody>\n",
       "    <tr>\n",
       "      <th>193</th>\n",
       "      <td>2008-03-06</td>\n",
       "      <td>EHL</td>\n",
       "      <td>161.5</td>\n",
       "      <td>165.0</td>\n",
       "      <td>159.00</td>\n",
       "      <td>165.00</td>\n",
       "      <td>160.00</td>\n",
       "      <td>164.00</td>\n",
       "      <td>627.0</td>\n",
       "      <td>11.7034</td>\n",
       "      <td>71840.0</td>\n",
       "    </tr>\n",
       "    <tr>\n",
       "      <th>192</th>\n",
       "      <td>2008-03-09</td>\n",
       "      <td>EHL</td>\n",
       "      <td>161.5</td>\n",
       "      <td>164.0</td>\n",
       "      <td>160.00</td>\n",
       "      <td>164.00</td>\n",
       "      <td>161.25</td>\n",
       "      <td>160.00</td>\n",
       "      <td>443.0</td>\n",
       "      <td>7.1467</td>\n",
       "      <td>44200.0</td>\n",
       "    </tr>\n",
       "    <tr>\n",
       "      <th>191</th>\n",
       "      <td>2008-03-09</td>\n",
       "      <td>EHL</td>\n",
       "      <td>161.5</td>\n",
       "      <td>164.0</td>\n",
       "      <td>160.00</td>\n",
       "      <td>164.00</td>\n",
       "      <td>161.25</td>\n",
       "      <td>160.00</td>\n",
       "      <td>443.0</td>\n",
       "      <td>7.1467</td>\n",
       "      <td>44200.0</td>\n",
       "    </tr>\n",
       "    <tr>\n",
       "      <th>190</th>\n",
       "      <td>2008-03-10</td>\n",
       "      <td>EHL</td>\n",
       "      <td>163.5</td>\n",
       "      <td>163.5</td>\n",
       "      <td>160.00</td>\n",
       "      <td>160.50</td>\n",
       "      <td>162.50</td>\n",
       "      <td>161.25</td>\n",
       "      <td>372.0</td>\n",
       "      <td>6.3002</td>\n",
       "      <td>38940.0</td>\n",
       "    </tr>\n",
       "    <tr>\n",
       "      <th>189</th>\n",
       "      <td>2008-03-11</td>\n",
       "      <td>EHL</td>\n",
       "      <td>163.0</td>\n",
       "      <td>165.0</td>\n",
       "      <td>161.25</td>\n",
       "      <td>161.25</td>\n",
       "      <td>163.25</td>\n",
       "      <td>162.50</td>\n",
       "      <td>429.0</td>\n",
       "      <td>7.1573</td>\n",
       "      <td>43820.0</td>\n",
       "    </tr>\n",
       "    <tr>\n",
       "      <th>...</th>\n",
       "      <td>...</td>\n",
       "      <td>...</td>\n",
       "      <td>...</td>\n",
       "      <td>...</td>\n",
       "      <td>...</td>\n",
       "      <td>...</td>\n",
       "      <td>...</td>\n",
       "      <td>...</td>\n",
       "      <td>...</td>\n",
       "      <td>...</td>\n",
       "      <td>...</td>\n",
       "    </tr>\n",
       "    <tr>\n",
       "      <th>3291</th>\n",
       "      <td>2022-12-22</td>\n",
       "      <td>EHL</td>\n",
       "      <td>76.4</td>\n",
       "      <td>77.7</td>\n",
       "      <td>74.00</td>\n",
       "      <td>75.00</td>\n",
       "      <td>76.40</td>\n",
       "      <td>76.20</td>\n",
       "      <td>895.0</td>\n",
       "      <td>24.2170</td>\n",
       "      <td>318085.0</td>\n",
       "    </tr>\n",
       "    <tr>\n",
       "      <th>3290</th>\n",
       "      <td>2022-12-26</td>\n",
       "      <td>EHL</td>\n",
       "      <td>74.2</td>\n",
       "      <td>77.4</td>\n",
       "      <td>73.80</td>\n",
       "      <td>76.50</td>\n",
       "      <td>74.20</td>\n",
       "      <td>76.40</td>\n",
       "      <td>1028.0</td>\n",
       "      <td>23.1540</td>\n",
       "      <td>306497.0</td>\n",
       "    </tr>\n",
       "    <tr>\n",
       "      <th>3289</th>\n",
       "      <td>2022-12-27</td>\n",
       "      <td>EHL</td>\n",
       "      <td>73.3</td>\n",
       "      <td>75.5</td>\n",
       "      <td>70.20</td>\n",
       "      <td>75.50</td>\n",
       "      <td>73.30</td>\n",
       "      <td>74.20</td>\n",
       "      <td>1251.0</td>\n",
       "      <td>37.4250</td>\n",
       "      <td>516740.0</td>\n",
       "    </tr>\n",
       "    <tr>\n",
       "      <th>3288</th>\n",
       "      <td>2022-12-28</td>\n",
       "      <td>EHL</td>\n",
       "      <td>77.4</td>\n",
       "      <td>77.8</td>\n",
       "      <td>73.50</td>\n",
       "      <td>74.80</td>\n",
       "      <td>77.40</td>\n",
       "      <td>73.30</td>\n",
       "      <td>1536.0</td>\n",
       "      <td>44.4230</td>\n",
       "      <td>583759.0</td>\n",
       "    </tr>\n",
       "    <tr>\n",
       "      <th>3287</th>\n",
       "      <td>2022-12-29</td>\n",
       "      <td>EHL</td>\n",
       "      <td>78.9</td>\n",
       "      <td>80.3</td>\n",
       "      <td>76.80</td>\n",
       "      <td>77.40</td>\n",
       "      <td>78.90</td>\n",
       "      <td>77.40</td>\n",
       "      <td>1618.0</td>\n",
       "      <td>70.4610</td>\n",
       "      <td>891178.0</td>\n",
       "    </tr>\n",
       "  </tbody>\n",
       "</table>\n",
       "<p>3531 rows × 11 columns</p>\n",
       "</div>"
      ],
      "text/plain": [
       "           date trading_code  last_traded_price   high     low  opening_price  \\\n",
       "193  2008-03-06          EHL              161.5  165.0  159.00         165.00   \n",
       "192  2008-03-09          EHL              161.5  164.0  160.00         164.00   \n",
       "191  2008-03-09          EHL              161.5  164.0  160.00         164.00   \n",
       "190  2008-03-10          EHL              163.5  163.5  160.00         160.50   \n",
       "189  2008-03-11          EHL              163.0  165.0  161.25         161.25   \n",
       "...         ...          ...                ...    ...     ...            ...   \n",
       "3291 2022-12-22          EHL               76.4   77.7   74.00          75.00   \n",
       "3290 2022-12-26          EHL               74.2   77.4   73.80          76.50   \n",
       "3289 2022-12-27          EHL               73.3   75.5   70.20          75.50   \n",
       "3288 2022-12-28          EHL               77.4   77.8   73.50          74.80   \n",
       "3287 2022-12-29          EHL               78.9   80.3   76.80          77.40   \n",
       "\n",
       "      closing_price  yesterdays_closing_price   trade  value_mn    volume  \n",
       "193          160.00                    164.00   627.0   11.7034   71840.0  \n",
       "192          161.25                    160.00   443.0    7.1467   44200.0  \n",
       "191          161.25                    160.00   443.0    7.1467   44200.0  \n",
       "190          162.50                    161.25   372.0    6.3002   38940.0  \n",
       "189          163.25                    162.50   429.0    7.1573   43820.0  \n",
       "...             ...                       ...     ...       ...       ...  \n",
       "3291          76.40                     76.20   895.0   24.2170  318085.0  \n",
       "3290          74.20                     76.40  1028.0   23.1540  306497.0  \n",
       "3289          73.30                     74.20  1251.0   37.4250  516740.0  \n",
       "3288          77.40                     73.30  1536.0   44.4230  583759.0  \n",
       "3287          78.90                     77.40  1618.0   70.4610  891178.0  \n",
       "\n",
       "[3531 rows x 11 columns]"
      ]
     },
     "execution_count": 6,
     "metadata": {},
     "output_type": "execute_result"
    }
   ],
   "source": [
    "dataset"
   ]
  },
  {
   "cell_type": "code",
   "execution_count": 7,
   "metadata": {},
   "outputs": [
    {
     "data": {
      "image/png": "[encoded data removed]",
      "text/plain": [
       "<Figure size 1600x800 with 1 Axes>"
      ]
     },
     "metadata": {},
     "output_type": "display_data"
    }
   ],
   "source": [
    "plt.figure(figsize=(16, 8))\n",
    "plt.plot(dataset.date, dataset.closing_price, marker='.', linestyle='-', color='b')\n",
    "\n",
    "# Formatting the plot\n",
    "plt.title('Price over Time')\n",
    "plt.xlabel('Year')\n",
    "plt.ylabel('Closing Price')\n",
    "plt.xticks(rotation=45)\n",
    "plt.grid()\n",
    "\n",
    "# Show the plot\n",
    "plt.tight_layout()\n",
    "plt.show()"
   ]
  },
  {
   "cell_type": "code",
   "execution_count": 8,
   "metadata": {},
   "outputs": [],
   "source": [
    "dataset.dropna(subset=['closing_price'],inplace=True)"
   ]
  },
  {
   "cell_type": "code",
   "execution_count": 9,
   "metadata": {},
   "outputs": [
    {
     "data": {
      "text/plain": [
       "date                         0\n",
       "trading_code                 0\n",
       "last_traded_price           21\n",
       "high                        21\n",
       "low                         21\n",
       "opening_price                8\n",
       "closing_price                0\n",
       "yesterdays_closing_price     0\n",
       "trade                       21\n",
       "value_mn                    21\n",
       "volume                      21\n",
       "dtype: int64"
      ]
     },
     "execution_count": 9,
     "metadata": {},
     "output_type": "execute_result"
    }
   ],
   "source": [
    "dataset.isnull().sum()"
   ]
  },
  {
   "cell_type": "code",
   "execution_count": 10,
   "metadata": {},
   "outputs": [],
   "source": [
    "data = dataset.reset_index()['closing_price']"
   ]
  },
  {
   "cell_type": "code",
   "execution_count": 11,
   "metadata": {},
   "outputs": [
    {
     "data": {
      "text/plain": [
       "0       160.00\n",
       "1       161.25\n",
       "2       161.25\n",
       "3       162.50\n",
       "4       163.25\n",
       "         ...  \n",
       "3519     76.40\n",
       "3520     74.20\n",
       "3521     73.30\n",
       "3522     77.40\n",
       "3523     78.90\n",
       "Name: closing_price, Length: 3524, dtype: float64"
      ]
     },
     "execution_count": 11,
     "metadata": {},
     "output_type": "execute_result"
    }
   ],
   "source": [
    "data"
   ]
  },
  {
   "cell_type": "code",
   "execution_count": 12,
   "metadata": {},
   "outputs": [
    {
     "data": {
      "text/plain": [
       "(3524,)"
      ]
     },
     "execution_count": 12,
     "metadata": {},
     "output_type": "execute_result"
    }
   ],
   "source": [
    "data.shape"
   ]
  },
  {
   "cell_type": "code",
   "execution_count": 13,
   "metadata": {},
   "outputs": [],
   "source": [
    "# preprocessing the data\n",
    "from sklearn.preprocessing import MinMaxScaler\n",
    "scaler = MinMaxScaler(feature_range=(0,1))"
   ]
  },
  {
   "cell_type": "code",
   "execution_count": 14,
   "metadata": {},
   "outputs": [],
   "source": [
    "data = scaler.fit_transform(np.array(data).reshape(-1,1))"
   ]
  },
  {
   "cell_type": "code",
   "execution_count": 15,
   "metadata": {},
   "outputs": [
    {
     "data": {
      "text/plain": [
       "(3524, 1)"
      ]
     },
     "execution_count": 15,
     "metadata": {},
     "output_type": "execute_result"
    }
   ],
   "source": [
    "data.shape"
   ]
  },
  {
   "cell_type": "code",
   "execution_count": 16,
   "metadata": {},
   "outputs": [
    {
     "data": {
      "text/plain": [
       "array([[0.0655721 ],\n",
       "       [0.06621045],\n",
       "       [0.06621045],\n",
       "       ...,\n",
       "       [0.02129561],\n",
       "       [0.02338942],\n",
       "       [0.02415545]])"
      ]
     },
     "execution_count": 16,
     "metadata": {},
     "output_type": "execute_result"
    }
   ],
   "source": [
    "data"
   ]
  },
  {
   "cell_type": "code",
   "execution_count": 17,
   "metadata": {},
   "outputs": [
    {
     "data": {
      "text/plain": [
       "(2819, 705)"
      ]
     },
     "execution_count": 17,
     "metadata": {},
     "output_type": "execute_result"
    }
   ],
   "source": [
    "# train & test data splitting\n",
    "\n",
    "train_size = int(len(data)*0.8)\n",
    "test_size = len(data) - train_size\n",
    "\n",
    "train_size, test_size"
   ]
  },
  {
   "cell_type": "code",
   "execution_count": 18,
   "metadata": {},
   "outputs": [],
   "source": [
    "train_data, test_data = data[0:train_size, :], data[train_size:len(data), :]"
   ]
  },
  {
   "cell_type": "code",
   "execution_count": 19,
   "metadata": {},
   "outputs": [],
   "source": [
    "# convert an array of values into a dataset matrix\n",
    "def create_dataset(dataset, time_step=1):\n",
    "\tdataX, dataY = [], []\n",
    "\tfor i in range(len(dataset)-time_step-1):\n",
    "\t\ta = dataset[i:(i+time_step), 0]  \n",
    "\t\tdataX.append(a)\n",
    "\t\tdataY.append(dataset[i + time_step, 0])\n",
    "\treturn np.array(dataX), np.array(dataY)"
   ]
  },
  {
   "cell_type": "code",
   "execution_count": 20,
   "metadata": {},
   "outputs": [],
   "source": [
    "time_step = 100\n",
    "x_train, y_train = create_dataset(train_data,time_step)\n",
    "x_test, y_test = create_dataset(test_data,time_step)"
   ]
  },
  {
   "cell_type": "code",
   "execution_count": 21,
   "metadata": {},
   "outputs": [
    {
     "name": "stdout",
     "output_type": "stream",
     "text": [
      "[[0.0655721  0.06621045 0.06621045 ... 0.14204734 0.14562214 0.14574981]\n",
      " [0.06621045 0.06621045 0.06684881 ... 0.14562214 0.14574981 0.141792  ]\n",
      " [0.06621045 0.06684881 0.06723183 ... 0.14574981 0.141792   0.14102597]\n",
      " ...\n",
      " [0.01128616 0.01077548 0.01036693 ... 0.00612823 0.00561755 0.0053622 ]\n",
      " [0.01077548 0.01036693 0.00995838 ... 0.00561755 0.0053622  0.00551541]\n",
      " [0.01036693 0.00995838 0.00944769 ... 0.0053622  0.00551541 0.00571968]]\n"
     ]
    }
   ],
   "source": [
    "print(x_train)"
   ]
  },
  {
   "cell_type": "code",
   "execution_count": 22,
   "metadata": {},
   "outputs": [
    {
     "name": "stdout",
     "output_type": "stream",
     "text": [
      "[0.141792   0.14102597 0.14306871 ... 0.00551541 0.00571968 0.00541327]\n"
     ]
    }
   ],
   "source": [
    "print(y_train)"
   ]
  },
  {
   "cell_type": "code",
   "execution_count": 23,
   "metadata": {},
   "outputs": [
    {
     "name": "stdout",
     "output_type": "stream",
     "text": [
      "[[0.00500472 0.00510686 0.00505579 ... 0.00362587 0.00362587 0.00362587]\n",
      " [0.00510686 0.00505579 0.00495366 ... 0.00362587 0.00362587 0.00362587]\n",
      " [0.00505579 0.00495366 0.0043919  ... 0.00362587 0.00362587 0.00362587]\n",
      " ...\n",
      " [0.01149044 0.01261395 0.01337998 ... 0.02497255 0.0227766  0.02287874]\n",
      " [0.01261395 0.01337998 0.01337998 ... 0.0227766  0.02287874 0.02175523]\n",
      " [0.01337998 0.01337998 0.01297143 ... 0.02287874 0.02175523 0.02129561]]\n"
     ]
    }
   ],
   "source": [
    "print(x_test)"
   ]
  },
  {
   "cell_type": "code",
   "execution_count": 24,
   "metadata": {},
   "outputs": [
    {
     "name": "stdout",
     "output_type": "stream",
     "text": [
      "[0.00362587 0.00362587 0.00418763 0.00362587 0.00362587 0.00362587\n",
      " 0.00362587 0.00362587 0.00362587 0.00372801 0.00388121 0.00372801\n",
      " 0.00423869 0.00408549 0.00459617 0.00464724 0.00454511 0.00485152\n",
      " 0.0053622  0.00515793 0.00587289 0.00668999 0.0061793  0.00648571\n",
      " 0.00592396 0.00633251 0.00607716 0.00582182 0.00577075 0.00607716\n",
      " 0.00623037 0.0060261  0.0060261  0.00607716 0.00689426 0.00694533\n",
      " 0.00679213 0.00648571 0.00720067 0.00786457 0.00745602 0.00755815\n",
      " 0.00730281 0.00735388 0.00730281 0.00755815 0.00755815 0.00714961\n",
      " 0.00684319 0.00663892 0.00668999 0.00638358 0.00653678 0.00638358\n",
      " 0.00638358 0.00648571 0.00653678 0.00704747 0.00709854 0.00694533\n",
      " 0.00679213 0.00658785 0.00689426 0.00689426 0.00541327 0.00490259\n",
      " 0.00480045 0.00500472 0.00515793 0.00500472 0.00469831 0.00490259\n",
      " 0.00469831 0.00469831 0.00474938 0.00469831 0.00515793 0.00490259\n",
      " 0.00495366 0.00490259 0.00469831 0.00444297 0.00428976 0.00403442\n",
      " 0.00428976 0.00428976 0.00428976 0.00377908 0.00377908 0.00362587\n",
      " 0.00362587 0.00377908 0.00362587 0.00362587 0.00362587 0.00362587\n",
      " 0.00372801 0.00362587 0.00362587 0.00367694 0.00408549 0.00434083\n",
      " 0.00449404 0.00454511 0.00485152 0.00480045 0.00454511 0.00459617\n",
      " 0.0043919  0.00444297 0.00418763 0.00454511 0.00459617 0.00398335\n",
      " 0.00423869 0.00428976 0.00464724 0.00474938 0.00510686 0.00495366\n",
      " 0.00495366 0.00582182 0.00628144 0.00658785 0.00658785 0.00679213\n",
      " 0.00648571 0.00658785 0.00720067 0.00674106 0.00674106 0.00674106\n",
      " 0.00658785 0.00653678 0.00653678 0.00633251 0.00582182 0.00577075\n",
      " 0.00500472 0.00541327 0.00541327 0.00582182 0.00561755 0.00577075\n",
      " 0.00531114 0.005209   0.005209   0.00490259 0.00587289 0.00531114\n",
      " 0.00485152 0.00449404 0.00454511 0.00459617 0.00449404 0.00444297\n",
      " 0.00428976 0.00434083 0.00428976 0.00469831 0.00505579 0.00469831\n",
      " 0.00485152 0.00526007 0.00500472 0.00551541 0.00623037 0.00612823\n",
      " 0.00592396 0.00597503 0.00592396 0.00566862 0.00592396 0.00566862\n",
      " 0.00561755 0.00546434 0.00571968 0.00515793 0.00526007 0.00551541\n",
      " 0.00541327 0.00434083 0.00464724 0.00383015 0.00428976 0.00444297\n",
      " 0.00459617 0.00434083 0.00423869 0.00403442 0.00428976 0.00434083\n",
      " 0.00474938 0.00464724 0.00490259 0.00474938 0.00464724 0.00474938\n",
      " 0.00490259 0.00500472 0.00434083 0.00469831 0.00418763 0.00449404\n",
      " 0.00449404 0.00485152 0.00546434 0.00582182 0.00643464 0.00643464\n",
      " 0.00679213 0.00623037 0.00587289 0.00577075 0.00577075 0.00597503\n",
      " 0.00587289 0.0061793  0.00648571 0.00776243 0.00725174 0.00653678\n",
      " 0.00674106 0.00689426 0.00704747 0.00684319 0.00674106 0.00725174\n",
      " 0.00776243 0.00776243 0.00755815 0.00847739 0.01092868 0.01072441\n",
      " 0.010418   0.01118403 0.0105712  0.00985624 0.01159257 0.0123586\n",
      " 0.01128616 0.01031586 0.01143937 0.01297143 0.01271608 0.01174578\n",
      " 0.01210326 0.01143937 0.01195005 0.01179685 0.01200112 0.01159257\n",
      " 0.01179685 0.01159257 0.01189899 0.01200112 0.01230754 0.01179685\n",
      " 0.0122054  0.01174578 0.01276715 0.01225647 0.01271608 0.01205219\n",
      " 0.01230754 0.01230754 0.01205219 0.01195005 0.01174578 0.01200112\n",
      " 0.01225647 0.01353318 0.01337998 0.01256288 0.0122054  0.01205219\n",
      " 0.0122054  0.01225647 0.01337998 0.01629089 0.01644409 0.01506524\n",
      " 0.01511631 0.01368639 0.01383959 0.01297143 0.01332891 0.01266502\n",
      " 0.01353318 0.01465669 0.0148099  0.0139928  0.01475883 0.01644409\n",
      " 0.01736333 0.01669944 0.01608661 0.01572913 0.01588234 0.01654623\n",
      " 0.01552486 0.01634196 0.01634196 0.01526951 0.01547379 0.01455455\n",
      " 0.01394173 0.01337998 0.01276715 0.01251181 0.01143937 0.01149044\n",
      " 0.01011158 0.00939662 0.01164364 0.01046907 0.01077548 0.01077548\n",
      " 0.010418   0.01046907 0.01113296 0.01062227 0.00980517 0.00929449\n",
      " 0.0097541  0.01159257 0.01240967 0.01169471 0.01184792 0.01169471\n",
      " 0.01087761 0.01092868 0.0105712  0.01021372 0.01062227 0.01000945\n",
      " 0.01006052 0.00939662 0.0096009  0.00898808 0.00939662 0.01011158\n",
      " 0.01026479 0.01062227 0.01067334 0.00995838 0.01000945 0.00939662\n",
      " 0.00934556 0.00898808 0.0087838  0.0086306  0.00837525 0.00837525\n",
      " 0.00832418 0.00811991 0.00791563 0.00735388 0.00806884 0.00786457\n",
      " 0.00776243 0.0086306  0.0096009  0.00924342 0.00980517 0.01062227\n",
      " 0.0097541  0.01230754 0.01143937 0.01087761 0.01072441 0.01149044\n",
      " 0.01149044 0.01353318 0.01337998 0.01353318 0.01322677 0.0122054\n",
      " 0.01332891 0.01506524 0.01389066 0.01532058 0.01445242 0.01455455\n",
      " 0.0139928  0.01348211 0.01327784 0.01297143 0.01286929 0.01378852\n",
      " 0.01424814 0.01409494 0.0131757  0.01286929 0.0130225  0.01297143\n",
      " 0.01215433 0.01261395 0.01266502 0.01179685 0.01082655 0.01082655\n",
      " 0.01097975 0.01046907 0.01026479 0.01006052 0.00903914 0.00949876\n",
      " 0.01046907 0.01036693 0.01154151 0.01108189 0.01143937 0.01174578\n",
      " 0.01123509 0.01123509 0.01174578 0.01261395 0.01271608 0.01215433\n",
      " 0.01281822 0.01276715 0.0122054  0.01184792 0.0122054  0.01195005\n",
      " 0.01154151 0.01118403 0.01113296 0.01164364 0.01133723 0.01082655\n",
      " 0.01108189 0.01077548 0.010418   0.01103082 0.01179685 0.01189899\n",
      " 0.01179685 0.01169471 0.01164364 0.0122054  0.01215433 0.01307356\n",
      " 0.01521845 0.01833363 0.01848684 0.01685264 0.0165973  0.0149631\n",
      " 0.01475883 0.01327784 0.01281822 0.01205219 0.01297143 0.01240967\n",
      " 0.01230754 0.01281822 0.01394173 0.01343104 0.01292036 0.01470776\n",
      " 0.01475883 0.01537165 0.01583127 0.01521845 0.01501417 0.01486097\n",
      " 0.01424814 0.01368639 0.01378852 0.01394173 0.01511631 0.01537165\n",
      " 0.01475883 0.01414601 0.01394173 0.01394173 0.01358425 0.01383959\n",
      " 0.01389066 0.01353318 0.01332891 0.01348211 0.01353318 0.01358425\n",
      " 0.01332891 0.01353318 0.01312463 0.01261395 0.01271608 0.01271608\n",
      " 0.01215433 0.01159257 0.01184792 0.01133723 0.01082655 0.01133723\n",
      " 0.01143937 0.01092868 0.010418   0.01149044 0.01261395 0.01337998\n",
      " 0.01337998 0.01297143 0.01450349 0.01414601 0.01286929 0.01307356\n",
      " 0.01327784 0.01475883 0.01470776 0.01603554 0.01598448 0.01654623\n",
      " 0.01777188 0.0211424  0.02476828 0.02451293 0.02854735 0.03094758\n",
      " 0.03564589 0.03753543 0.03222429 0.03130506 0.02762812 0.02594285\n",
      " 0.02793453 0.02594285 0.02435973 0.0227766  0.02451293 0.0270153\n",
      " 0.03130506 0.02926231 0.02711743 0.0314072  0.03212216 0.03232643\n",
      " 0.03666726 0.03911856 0.04340832 0.04105916 0.04330618 0.04111023\n",
      " 0.04039527 0.03968031 0.04351046 0.04351046 0.049128   0.05535837\n",
      " 0.05423486 0.054337   0.04728953 0.0427955  0.03845466 0.03794398\n",
      " 0.04095703 0.04407221 0.04299977 0.03927176 0.03957817 0.04437862\n",
      " 0.05035365 0.04825984 0.05147716 0.05183464 0.04570641 0.04223374\n",
      " 0.04575748 0.04080382 0.03636085 0.03125399 0.03436917 0.03150933\n",
      " 0.02675995 0.02349156 0.02727064 0.02461507 0.02660675 0.02686209\n",
      " 0.02308301 0.02502362 0.02497255 0.02584072 0.02379797 0.02323622\n",
      " 0.02517683 0.02563644 0.02497255 0.02573858 0.02793453 0.02742384\n",
      " 0.02645354 0.02675995 0.02650461 0.02589179 0.02497255 0.0227766\n",
      " 0.02287874 0.02175523 0.02129561 0.02338942]\n"
     ]
    }
   ],
   "source": [
    "print(y_test)"
   ]
  },
  {
   "cell_type": "code",
   "execution_count": 25,
   "metadata": {},
   "outputs": [
    {
     "name": "stdout",
     "output_type": "stream",
     "text": [
      "(2718, 100)\n",
      "(2718,)\n",
      "(604, 100)\n",
      "(604,)\n"
     ]
    },
    {
     "data": {
      "text/plain": [
       "(None, None)"
      ]
     },
     "execution_count": 25,
     "metadata": {},
     "output_type": "execute_result"
    }
   ],
   "source": [
    "print(x_train.shape), print(y_train.shape)\n",
    "print(x_test.shape), print(y_test.shape)"
   ]
  },
  {
   "cell_type": "code",
   "execution_count": 26,
   "metadata": {},
   "outputs": [],
   "source": [
    "# reshape input into 3D array\n",
    "x_train = x_train.reshape(x_train.shape[0],x_train.shape[1],1)\n",
    "x_test = x_test.reshape(x_test.shape[0],x_test.shape[1],1)"
   ]
  },
  {
   "cell_type": "code",
   "execution_count": 27,
   "metadata": {},
   "outputs": [
    {
     "data": {
      "text/plain": [
       "((2718, 100, 1), (604, 100, 1))"
      ]
     },
     "execution_count": 27,
     "metadata": {},
     "output_type": "execute_result"
    }
   ],
   "source": [
    "x_train.shape, x_test.shape"
   ]
  },
  {
   "cell_type": "code",
   "execution_count": 28,
   "metadata": {},
   "outputs": [],
   "source": [
    "# create LSTM model\n",
    "from tensorflow.keras.models import Sequential\n",
    "from tensorflow.keras.layers import Dense, LSTM, Dropout\n",
    "from tensorflow.keras.callbacks import EarlyStopping \n",
    "from tensorflow.keras.optimizers import Adam "
   ]
  },
  {
   "cell_type": "code",
   "execution_count": 29,
   "metadata": {},
   "outputs": [
    {
     "name": "stderr",
     "output_type": "stream",
     "text": [
      "c:\\Users\\USER\\AppData\\Local\\Programs\\Python\\Python310\\lib\\site-packages\\keras\\src\\layers\\rnn\\rnn.py:204: UserWarning: Do not pass an `input_shape`/`input_dim` argument to a layer. When using Sequential models, prefer using an `Input(shape)` object as the first layer in the model instead.\n",
      "  super().__init__(**kwargs)\n"
     ]
    }
   ],
   "source": [
    "model = Sequential()\n",
    "\n",
    "model.add(LSTM(units = 64,activation='relu', return_sequences=True, input_shape = (x_train.shape[1],1)))\n",
    "model.add(Dropout(0.2))\n",
    "\n",
    "model.add(LSTM(units = 32,activation='relu', return_sequences=True))\n",
    "model.add(Dropout(0.3))\n",
    "\n",
    "model.add(LSTM(units = 24,activation='relu'))\n",
    "model.add(Dropout(0.2))\n",
    "\n",
    "model.add(Dense(units = 1))"
   ]
  },
  {
   "cell_type": "code",
   "execution_count": 30,
   "metadata": {},
   "outputs": [],
   "source": [
    "model.compile(optimizer = Adam(learning_rate = 0.001), loss = 'mean_squared_error')"
   ]
  },
  {
   "cell_type": "code",
   "execution_count": 31,
   "metadata": {},
   "outputs": [],
   "source": [
    "early_stopping = EarlyStopping(\n",
    "    monitor=\"val_loss\",\n",
    "    patience=5,\n",
    "    restore_best_weights=True,\n",
    ")"
   ]
  },
  {
   "cell_type": "code",
   "execution_count": 32,
   "metadata": {},
   "outputs": [
    {
     "name": "stdout",
     "output_type": "stream",
     "text": [
      "Epoch 1/100\n",
      "\u001b[1m85/85\u001b[0m \u001b[32m━━━━━━━━━━━━━━━━━━━━\u001b[0m\u001b[37m\u001b[0m \u001b[1m18s\u001b[0m 137ms/step - loss: 0.0255 - val_loss: 1.3479e-04\n",
      "Epoch 2/100\n",
      "\u001b[1m85/85\u001b[0m \u001b[32m━━━━━━━━━━━━━━━━━━━━\u001b[0m\u001b[37m\u001b[0m \u001b[1m10s\u001b[0m 116ms/step - loss: 0.0039 - val_loss: 8.0217e-05\n",
      "Epoch 3/100\n",
      "\u001b[1m85/85\u001b[0m \u001b[32m━━━━━━━━━━━━━━━━━━━━\u001b[0m\u001b[37m\u001b[0m \u001b[1m10s\u001b[0m 119ms/step - loss: 0.0031 - val_loss: 9.6549e-05\n",
      "Epoch 4/100\n",
      "\u001b[1m85/85\u001b[0m \u001b[32m━━━━━━━━━━━━━━━━━━━━\u001b[0m\u001b[37m\u001b[0m \u001b[1m10s\u001b[0m 113ms/step - loss: 0.0035 - val_loss: 1.0245e-04\n",
      "Epoch 5/100\n",
      "\u001b[1m85/85\u001b[0m \u001b[32m━━━━━━━━━━━━━━━━━━━━\u001b[0m\u001b[37m\u001b[0m \u001b[1m10s\u001b[0m 117ms/step - loss: 0.0027 - val_loss: 8.1920e-05\n",
      "Epoch 6/100\n",
      "\u001b[1m85/85\u001b[0m \u001b[32m━━━━━━━━━━━━━━━━━━━━\u001b[0m\u001b[37m\u001b[0m \u001b[1m10s\u001b[0m 115ms/step - loss: 0.0024 - val_loss: 1.0191e-04\n",
      "Epoch 7/100\n",
      "\u001b[1m85/85\u001b[0m \u001b[32m━━━━━━━━━━━━━━━━━━━━\u001b[0m\u001b[37m\u001b[0m \u001b[1m10s\u001b[0m 118ms/step - loss: 0.0023 - val_loss: 7.5797e-05\n",
      "Epoch 8/100\n",
      "\u001b[1m85/85\u001b[0m \u001b[32m━━━━━━━━━━━━━━━━━━━━\u001b[0m\u001b[37m\u001b[0m \u001b[1m10s\u001b[0m 122ms/step - loss: 0.0020 - val_loss: 7.6313e-05\n",
      "Epoch 9/100\n",
      "\u001b[1m85/85\u001b[0m \u001b[32m━━━━━━━━━━━━━━━━━━━━\u001b[0m\u001b[37m\u001b[0m \u001b[1m10s\u001b[0m 117ms/step - loss: 0.0016 - val_loss: 1.5483e-04\n",
      "Epoch 10/100\n",
      "\u001b[1m85/85\u001b[0m \u001b[32m━━━━━━━━━━━━━━━━━━━━\u001b[0m\u001b[37m\u001b[0m \u001b[1m10s\u001b[0m 122ms/step - loss: 0.0017 - val_loss: 6.5904e-05\n",
      "Epoch 11/100\n",
      "\u001b[1m85/85\u001b[0m \u001b[32m━━━━━━━━━━━━━━━━━━━━\u001b[0m\u001b[37m\u001b[0m \u001b[1m12s\u001b[0m 141ms/step - loss: 0.0019 - val_loss: 7.3453e-05\n",
      "Epoch 12/100\n",
      "\u001b[1m85/85\u001b[0m \u001b[32m━━━━━━━━━━━━━━━━━━━━\u001b[0m\u001b[37m\u001b[0m \u001b[1m18s\u001b[0m 114ms/step - loss: 0.0019 - val_loss: 7.1109e-05\n",
      "Epoch 13/100\n",
      "\u001b[1m85/85\u001b[0m \u001b[32m━━━━━━━━━━━━━━━━━━━━\u001b[0m\u001b[37m\u001b[0m \u001b[1m10s\u001b[0m 120ms/step - loss: 0.0019 - val_loss: 7.8592e-05\n",
      "Epoch 14/100\n",
      "\u001b[1m85/85\u001b[0m \u001b[32m━━━━━━━━━━━━━━━━━━━━\u001b[0m\u001b[37m\u001b[0m \u001b[1m10s\u001b[0m 115ms/step - loss: 0.0018 - val_loss: 7.9589e-05\n",
      "Epoch 15/100\n",
      "\u001b[1m85/85\u001b[0m \u001b[32m━━━━━━━━━━━━━━━━━━━━\u001b[0m\u001b[37m\u001b[0m \u001b[1m10s\u001b[0m 115ms/step - loss: 0.0018 - val_loss: 8.4416e-05\n"
     ]
    }
   ],
   "source": [
    "model_history = model.fit(x_train,y_train, validation_data = (x_test, y_test), epochs = 100, callbacks = [early_stopping],verbose = 1)"
   ]
  },
  {
   "cell_type": "code",
   "execution_count": 39,
   "metadata": {},
   "outputs": [
    {
     "data": {
      "text/plain": [
       "dict_keys(['loss', 'val_loss'])"
      ]
     },
     "execution_count": 39,
     "metadata": {},
     "output_type": "execute_result"
    }
   ],
   "source": [
    "model_history.history.keys()"
   ]
  },
  {
   "cell_type": "code",
   "execution_count": 40,
   "metadata": {},
   "outputs": [
    {
     "name": "stdout",
     "output_type": "stream",
     "text": [
      "\u001b[1m19/19\u001b[0m \u001b[32m━━━━━━━━━━━━━━━━━━━━\u001b[0m\u001b[37m\u001b[0m \u001b[1m1s\u001b[0m 36ms/step\n"
     ]
    }
   ],
   "source": [
    "predict = model.predict(x_test)"
   ]
  },
  {
   "cell_type": "code",
   "execution_count": 41,
   "metadata": {},
   "outputs": [],
   "source": [
    "predict = scaler.inverse_transform(predict)"
   ]
  },
  {
   "cell_type": "code",
   "execution_count": 42,
   "metadata": {},
   "outputs": [],
   "source": [
    "### Calculate RMSE performance metrics\n",
    "import math\n",
    "from sklearn.metrics import mean_squared_error"
   ]
  },
  {
   "cell_type": "code",
   "execution_count": 43,
   "metadata": {},
   "outputs": [
    {
     "data": {
      "text/plain": [
       "54.544287067803616"
      ]
     },
     "execution_count": 43,
     "metadata": {},
     "output_type": "execute_result"
    }
   ],
   "source": [
    "math.sqrt(mean_squared_error(y_test,predict))"
   ]
  },
  {
   "cell_type": "code",
   "execution_count": 45,
   "metadata": {},
   "outputs": [
    {
     "data": {
      "image/png": "[encoded data removed]",
      "text/plain": [
       "<Figure size 640x480 with 1 Axes>"
      ]
     },
     "metadata": {},
     "output_type": "display_data"
    }
   ],
   "source": [
    "# summarize history for loss\n",
    "plt.plot(model_history.history['loss'])\n",
    "plt.plot(model_history.history['val_loss'])\n",
    "plt.title('model loss')\n",
    "plt.ylabel('loss')\n",
    "plt.xlabel('epoch')\n",
    "plt.legend(['train', 'test'], loc='upper left')\n",
    "plt.show()"
   ]
  },
  {
   "cell_type": "code",
   "execution_count": 46,
   "metadata": {},
   "outputs": [
    {
     "name": "stderr",
     "output_type": "stream",
     "text": [
      "WARNING:absl:You are saving your model as an HDF5 file via `model.save()` or `keras.saving.save_model(model)`. This file format is considered legacy. We recommend using instead the native Keras format, e.g. `model.save('my_model.keras')` or `keras.saving.save_model(model, 'my_model.keras')`. \n"
     ]
    }
   ],
   "source": [
    "# save model\n",
    "model.save(\"model_EHL.h5\")"
   ]
  },
  {
   "cell_type": "code",
   "execution_count": 48,
   "metadata": {},
   "outputs": [
    {
     "name": "stderr",
     "output_type": "stream",
     "text": [
      "WARNING:absl:Compiled the loaded model, but the compiled metrics have yet to be built. `model.compile_metrics` will be empty until you train or evaluate the model.\n"
     ]
    },
    {
     "name": "stdout",
     "output_type": "stream",
     "text": [
      "\u001b[1m85/85\u001b[0m \u001b[32m━━━━━━━━━━━━━━━━━━━━\u001b[0m\u001b[37m\u001b[0m \u001b[1m6s\u001b[0m 66ms/step\n",
      "[[324.105   ]\n",
      " [321.61722 ]\n",
      " [318.71106 ]\n",
      " ...\n",
      " [ 51.733112]\n",
      " [ 51.731873]\n",
      " [ 51.73052 ]]\n"
     ]
    }
   ],
   "source": [
    "from tensorflow.keras.models import load_model\n",
    "model2 = load_model('model_EHL.h5')\n",
    "result = model2.predict(x_train)\n",
    "result = scaler.inverse_transform(result)\n",
    "print(result)"
   ]
  }
 ],
 "metadata": {
  "kernelspec": {
   "display_name": "Python 3",
   "language": "python",
   "name": "python3"
  },
  "language_info": {
   "codemirror_mode": {
    "name": "ipython",
    "version": 3
   },
   "file_extension": ".py",
   "mimetype": "text/x-python",
   "name": "python",
   "nbconvert_exporter": "python",
   "pygments_lexer": "ipython3",
   "version": "3.10.5"
  }
 },
 "nbformat": 4,
 "nbformat_minor": 2
}
