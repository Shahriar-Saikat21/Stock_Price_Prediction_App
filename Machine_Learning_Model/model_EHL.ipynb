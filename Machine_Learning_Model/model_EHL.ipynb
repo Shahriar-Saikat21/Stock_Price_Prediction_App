{
 "cells": [
  {
   "cell_type": "code",
   "execution_count": 1,
   "metadata": {},
   "outputs": [],
   "source": [
    "import numpy as np\n",
    "import pandas as pd\n",
    "import matplotlib.pyplot as plt"
   ]
  },
  {
   "cell_type": "code",
   "execution_count": 2,
   "metadata": {},
   "outputs": [
    {
     "data": {
      "text/html": [
       "<div>\n",
       "<style scoped>\n",
       "    .dataframe tbody tr th:only-of-type {\n",
       "        vertical-align: middle;\n",
       "    }\n",
       "\n",
       "    .dataframe tbody tr th {\n",
       "        vertical-align: top;\n",
       "    }\n",
       "\n",
       "    .dataframe thead th {\n",
       "        text-align: right;\n",
       "    }\n",
       "</style>\n",
       "<table border=\"1\" class=\"dataframe\">\n",
       "  <thead>\n",
       "    <tr style=\"text-align: right;\">\n",
       "      <th></th>\n",
       "      <th>date</th>\n",
       "      <th>trading_code</th>\n",
       "      <th>last_traded_price</th>\n",
       "      <th>high</th>\n",
       "      <th>low</th>\n",
       "      <th>opening_price</th>\n",
       "      <th>closing_price</th>\n",
       "      <th>yesterdays_closing_price</th>\n",
       "      <th>trade</th>\n",
       "      <th>value_mn</th>\n",
       "      <th>volume</th>\n",
       "    </tr>\n",
       "  </thead>\n",
       "  <tbody>\n",
       "    <tr>\n",
       "      <th>0</th>\n",
       "      <td>12/30/2008 0:00</td>\n",
       "      <td>EHL</td>\n",
       "      <td>246.00</td>\n",
       "      <td>250.00</td>\n",
       "      <td>228.0</td>\n",
       "      <td>250.0</td>\n",
       "      <td>245.75</td>\n",
       "      <td>232.75</td>\n",
       "      <td>478.0</td>\n",
       "      <td>9.1081</td>\n",
       "      <td>37580.0</td>\n",
       "    </tr>\n",
       "    <tr>\n",
       "      <th>1</th>\n",
       "      <td>12/28/2008 0:00</td>\n",
       "      <td>EHL</td>\n",
       "      <td>233.75</td>\n",
       "      <td>234.75</td>\n",
       "      <td>225.5</td>\n",
       "      <td>226.5</td>\n",
       "      <td>232.75</td>\n",
       "      <td>225.75</td>\n",
       "      <td>394.0</td>\n",
       "      <td>6.8280</td>\n",
       "      <td>29500.0</td>\n",
       "    </tr>\n",
       "    <tr>\n",
       "      <th>2</th>\n",
       "      <td>12/24/2008 0:00</td>\n",
       "      <td>EHL</td>\n",
       "      <td>226.00</td>\n",
       "      <td>231.00</td>\n",
       "      <td>223.0</td>\n",
       "      <td>223.0</td>\n",
       "      <td>225.75</td>\n",
       "      <td>221.50</td>\n",
       "      <td>528.0</td>\n",
       "      <td>8.9187</td>\n",
       "      <td>39260.0</td>\n",
       "    </tr>\n",
       "    <tr>\n",
       "      <th>3</th>\n",
       "      <td>12/23/2008 0:00</td>\n",
       "      <td>EHL</td>\n",
       "      <td>222.75</td>\n",
       "      <td>224.00</td>\n",
       "      <td>218.5</td>\n",
       "      <td>218.5</td>\n",
       "      <td>221.50</td>\n",
       "      <td>220.25</td>\n",
       "      <td>184.0</td>\n",
       "      <td>2.5838</td>\n",
       "      <td>11680.0</td>\n",
       "    </tr>\n",
       "    <tr>\n",
       "      <th>4</th>\n",
       "      <td>12/22/2008 0:00</td>\n",
       "      <td>EHL</td>\n",
       "      <td>221.00</td>\n",
       "      <td>226.00</td>\n",
       "      <td>215.0</td>\n",
       "      <td>226.0</td>\n",
       "      <td>220.25</td>\n",
       "      <td>223.50</td>\n",
       "      <td>381.0</td>\n",
       "      <td>5.5071</td>\n",
       "      <td>24860.0</td>\n",
       "    </tr>\n",
       "  </tbody>\n",
       "</table>\n",
       "</div>"
      ],
      "text/plain": [
       "              date trading_code  last_traded_price    high    low  \\\n",
       "0  12/30/2008 0:00          EHL             246.00  250.00  228.0   \n",
       "1  12/28/2008 0:00          EHL             233.75  234.75  225.5   \n",
       "2  12/24/2008 0:00          EHL             226.00  231.00  223.0   \n",
       "3  12/23/2008 0:00          EHL             222.75  224.00  218.5   \n",
       "4  12/22/2008 0:00          EHL             221.00  226.00  215.0   \n",
       "\n",
       "   opening_price  closing_price  yesterdays_closing_price  trade  value_mn  \\\n",
       "0          250.0         245.75                    232.75  478.0    9.1081   \n",
       "1          226.5         232.75                    225.75  394.0    6.8280   \n",
       "2          223.0         225.75                    221.50  528.0    8.9187   \n",
       "3          218.5         221.50                    220.25  184.0    2.5838   \n",
       "4          226.0         220.25                    223.50  381.0    5.5071   \n",
       "\n",
       "    volume  \n",
       "0  37580.0  \n",
       "1  29500.0  \n",
       "2  39260.0  \n",
       "3  11680.0  \n",
       "4  24860.0  "
      ]
     },
     "execution_count": 2,
     "metadata": {},
     "output_type": "execute_result"
    }
   ],
   "source": [
    "# read the data\n",
    "dataset = pd.read_csv('./data/data_for_EHL.csv')\n",
    "dataset.head()"
   ]
  },
  {
   "cell_type": "code",
   "execution_count": 3,
   "metadata": {},
   "outputs": [
    {
     "data": {
      "text/html": [
       "<div>\n",
       "<style scoped>\n",
       "    .dataframe tbody tr th:only-of-type {\n",
       "        vertical-align: middle;\n",
       "    }\n",
       "\n",
       "    .dataframe tbody tr th {\n",
       "        vertical-align: top;\n",
       "    }\n",
       "\n",
       "    .dataframe thead th {\n",
       "        text-align: right;\n",
       "    }\n",
       "</style>\n",
       "<table border=\"1\" class=\"dataframe\">\n",
       "  <thead>\n",
       "    <tr style=\"text-align: right;\">\n",
       "      <th></th>\n",
       "      <th>date</th>\n",
       "      <th>trading_code</th>\n",
       "      <th>last_traded_price</th>\n",
       "      <th>high</th>\n",
       "      <th>low</th>\n",
       "      <th>opening_price</th>\n",
       "      <th>closing_price</th>\n",
       "      <th>yesterdays_closing_price</th>\n",
       "      <th>trade</th>\n",
       "      <th>value_mn</th>\n",
       "      <th>volume</th>\n",
       "    </tr>\n",
       "  </thead>\n",
       "  <tbody>\n",
       "    <tr>\n",
       "      <th>3526</th>\n",
       "      <td>2022-01-06 00:00:00</td>\n",
       "      <td>EHL</td>\n",
       "      <td>52.4</td>\n",
       "      <td>52.9</td>\n",
       "      <td>50.6</td>\n",
       "      <td>50.7</td>\n",
       "      <td>52.4</td>\n",
       "      <td>50.8</td>\n",
       "      <td>501.0</td>\n",
       "      <td>16.983</td>\n",
       "      <td>326890.0</td>\n",
       "    </tr>\n",
       "    <tr>\n",
       "      <th>3527</th>\n",
       "      <td>2022-01-05 00:00:00</td>\n",
       "      <td>EHL</td>\n",
       "      <td>50.8</td>\n",
       "      <td>52.0</td>\n",
       "      <td>50.0</td>\n",
       "      <td>50.3</td>\n",
       "      <td>50.8</td>\n",
       "      <td>49.7</td>\n",
       "      <td>354.0</td>\n",
       "      <td>8.756</td>\n",
       "      <td>171221.0</td>\n",
       "    </tr>\n",
       "    <tr>\n",
       "      <th>3528</th>\n",
       "      <td>2022-01-04 00:00:00</td>\n",
       "      <td>EHL</td>\n",
       "      <td>50.0</td>\n",
       "      <td>51.4</td>\n",
       "      <td>49.6</td>\n",
       "      <td>51.4</td>\n",
       "      <td>49.7</td>\n",
       "      <td>50.4</td>\n",
       "      <td>147.0</td>\n",
       "      <td>2.648</td>\n",
       "      <td>53190.0</td>\n",
       "    </tr>\n",
       "    <tr>\n",
       "      <th>3529</th>\n",
       "      <td>2022-01-03 00:00:00</td>\n",
       "      <td>EHL</td>\n",
       "      <td>50.4</td>\n",
       "      <td>52.5</td>\n",
       "      <td>48.5</td>\n",
       "      <td>48.6</td>\n",
       "      <td>50.4</td>\n",
       "      <td>48.5</td>\n",
       "      <td>481.0</td>\n",
       "      <td>13.441</td>\n",
       "      <td>266560.0</td>\n",
       "    </tr>\n",
       "    <tr>\n",
       "      <th>3530</th>\n",
       "      <td>2022-01-02 00:00:00</td>\n",
       "      <td>EHL</td>\n",
       "      <td>48.5</td>\n",
       "      <td>49.0</td>\n",
       "      <td>47.0</td>\n",
       "      <td>47.4</td>\n",
       "      <td>48.5</td>\n",
       "      <td>46.8</td>\n",
       "      <td>133.0</td>\n",
       "      <td>3.864</td>\n",
       "      <td>80610.0</td>\n",
       "    </tr>\n",
       "  </tbody>\n",
       "</table>\n",
       "</div>"
      ],
      "text/plain": [
       "                     date trading_code  last_traded_price  high   low  \\\n",
       "3526  2022-01-06 00:00:00          EHL               52.4  52.9  50.6   \n",
       "3527  2022-01-05 00:00:00          EHL               50.8  52.0  50.0   \n",
       "3528  2022-01-04 00:00:00          EHL               50.0  51.4  49.6   \n",
       "3529  2022-01-03 00:00:00          EHL               50.4  52.5  48.5   \n",
       "3530  2022-01-02 00:00:00          EHL               48.5  49.0  47.0   \n",
       "\n",
       "      opening_price  closing_price  yesterdays_closing_price  trade  value_mn  \\\n",
       "3526           50.7           52.4                      50.8  501.0    16.983   \n",
       "3527           50.3           50.8                      49.7  354.0     8.756   \n",
       "3528           51.4           49.7                      50.4  147.0     2.648   \n",
       "3529           48.6           50.4                      48.5  481.0    13.441   \n",
       "3530           47.4           48.5                      46.8  133.0     3.864   \n",
       "\n",
       "        volume  \n",
       "3526  326890.0  \n",
       "3527  171221.0  \n",
       "3528   53190.0  \n",
       "3529  266560.0  \n",
       "3530   80610.0  "
      ]
     },
     "execution_count": 3,
     "metadata": {},
     "output_type": "execute_result"
    }
   ],
   "source": [
    "dataset.tail()"
   ]
  },
  {
   "cell_type": "code",
   "execution_count": 7,
   "metadata": {},
   "outputs": [],
   "source": [
    "dataset.dropna(subset=['closing_price'],inplace=True)"
   ]
  },
  {
   "cell_type": "code",
   "execution_count": 8,
   "metadata": {},
   "outputs": [
    {
     "data": {
      "text/plain": [
       "date                         0\n",
       "trading_code                 0\n",
       "last_traded_price           21\n",
       "high                        21\n",
       "low                         21\n",
       "opening_price                8\n",
       "closing_price                0\n",
       "yesterdays_closing_price     0\n",
       "trade                       21\n",
       "value_mn                    21\n",
       "volume                      21\n",
       "dtype: int64"
      ]
     },
     "execution_count": 8,
     "metadata": {},
     "output_type": "execute_result"
    }
   ],
   "source": [
    "dataset.isnull().sum()"
   ]
  },
  {
   "cell_type": "code",
   "execution_count": 9,
   "metadata": {},
   "outputs": [],
   "source": [
    "data = dataset.reset_index()['closing_price']"
   ]
  },
  {
   "cell_type": "code",
   "execution_count": 15,
   "metadata": {},
   "outputs": [
    {
     "data": {
      "text/plain": [
       "0       245.75\n",
       "1       232.75\n",
       "2       225.75\n",
       "3       221.50\n",
       "4       220.25\n",
       "         ...  \n",
       "3519     52.40\n",
       "3520     50.80\n",
       "3521     49.70\n",
       "3522     50.40\n",
       "3523     48.50\n",
       "Name: closing_price, Length: 3524, dtype: float64"
      ]
     },
     "execution_count": 15,
     "metadata": {},
     "output_type": "execute_result"
    }
   ],
   "source": [
    "data"
   ]
  },
  {
   "cell_type": "code",
   "execution_count": 12,
   "metadata": {},
   "outputs": [
    {
     "data": {
      "text/plain": [
       "(3524,)"
      ]
     },
     "execution_count": 12,
     "metadata": {},
     "output_type": "execute_result"
    }
   ],
   "source": [
    "data.shape"
   ]
  },
  {
   "cell_type": "code",
   "execution_count": 13,
   "metadata": {},
   "outputs": [
    {
     "data": {
      "text/plain": [
       "[<matplotlib.lines.Line2D at 0x22e91aa9210>]"
      ]
     },
     "execution_count": 13,
     "metadata": {},
     "output_type": "execute_result"
    },
    {
     "data": {
      "image/png": "[encoded data removed]",
      "text/plain": [
       "<Figure size 640x480 with 1 Axes>"
      ]
     },
     "metadata": {},
     "output_type": "display_data"
    }
   ],
   "source": [
    "plt.plot(data)"
   ]
  },
  {
   "cell_type": "code",
   "execution_count": 14,
   "metadata": {},
   "outputs": [],
   "source": [
    "# preprocessing the data\n",
    "from sklearn.preprocessing import MinMaxScaler\n",
    "scaler = MinMaxScaler(feature_range=(0,1))"
   ]
  },
  {
   "cell_type": "code",
   "execution_count": 16,
   "metadata": {},
   "outputs": [],
   "source": [
    "data = scaler.fit_transform(np.array(data).reshape(-1,1))"
   ]
  },
  {
   "cell_type": "code",
   "execution_count": 17,
   "metadata": {},
   "outputs": [
    {
     "data": {
      "text/plain": [
       "(3524, 1)"
      ]
     },
     "execution_count": 17,
     "metadata": {},
     "output_type": "execute_result"
    }
   ],
   "source": [
    "data.shape"
   ]
  },
  {
   "cell_type": "code",
   "execution_count": 18,
   "metadata": {},
   "outputs": [
    {
     "data": {
      "text/plain": [
       "array([[0.10936343],\n",
       "       [0.10272451],\n",
       "       [0.09914971],\n",
       "       ...,\n",
       "       [0.00924342],\n",
       "       [0.0096009 ],\n",
       "       [0.0086306 ]])"
      ]
     },
     "execution_count": 18,
     "metadata": {},
     "output_type": "execute_result"
    }
   ],
   "source": [
    "data"
   ]
  },
  {
   "cell_type": "code",
   "execution_count": 20,
   "metadata": {},
   "outputs": [
    {
     "data": {
      "text/plain": [
       "(2819, 705)"
      ]
     },
     "execution_count": 20,
     "metadata": {},
     "output_type": "execute_result"
    }
   ],
   "source": [
    "# train & test data splitting\n",
    "\n",
    "train_size = int(len(data)*0.8)\n",
    "test_size = len(data) - train_size\n",
    "\n",
    "train_size, test_size"
   ]
  },
  {
   "cell_type": "code",
   "execution_count": 24,
   "metadata": {},
   "outputs": [],
   "source": [
    "train_data, test_data = data[0:train_size, :], data[train_size:len(data), :]"
   ]
  },
  {
   "cell_type": "code",
   "execution_count": 26,
   "metadata": {},
   "outputs": [],
   "source": [
    "# convert an array of values into a dataset matrix\n",
    "def create_dataset(dataset, time_step=1):\n",
    "\tdataX, dataY = [], []\n",
    "\tfor i in range(len(dataset)-time_step-1):\n",
    "\t\ta = dataset[i:(i+time_step), 0]  \n",
    "\t\tdataX.append(a)\n",
    "\t\tdataY.append(dataset[i + time_step, 0])\n",
    "\treturn np.array(dataX), np.array(dataY)"
   ]
  },
  {
   "cell_type": "code",
   "execution_count": 27,
   "metadata": {},
   "outputs": [],
   "source": [
    "time_step = 100\n",
    "x_train, y_train = create_dataset(train_data,time_step)\n",
    "x_test, y_test = create_dataset(test_data,time_step)"
   ]
  },
  {
   "cell_type": "code",
   "execution_count": 28,
   "metadata": {},
   "outputs": [
    {
     "name": "stdout",
     "output_type": "stream",
     "text": [
      "[[0.10936343 0.10272451 0.09914971 ... 0.1637515  0.15762327 0.14600516]\n",
      " [0.10272451 0.09914971 0.09697929 ... 0.15762327 0.14600516 0.14383474]\n",
      " [0.09914971 0.09697929 0.09634093 ... 0.14600516 0.14383474 0.14243036]\n",
      " ...\n",
      " [0.01133723 0.01113296 0.01143937 ... 0.01475883 0.01532058 0.01246074]\n",
      " [0.01113296 0.01143937 0.01052013 ... 0.01532058 0.01246074 0.01062227]\n",
      " [0.01143937 0.01052013 0.01062227 ... 0.01246074 0.01062227 0.01036693]]\n"
     ]
    }
   ],
   "source": [
    "print(x_train)"
   ]
  },
  {
   "cell_type": "code",
   "execution_count": 29,
   "metadata": {},
   "outputs": [
    {
     "name": "stdout",
     "output_type": "stream",
     "text": [
      "[0.14383474 0.14243036 0.14191967 ... 0.01062227 0.01036693 0.01021372]\n"
     ]
    }
   ],
   "source": [
    "print(y_train)"
   ]
  },
  {
   "cell_type": "code",
   "execution_count": 30,
   "metadata": {},
   "outputs": [
    {
     "name": "stdout",
     "output_type": "stream",
     "text": [
      "[[0.01067334 0.01164364 0.01240967 ... 0.00679213 0.00694533 0.00689426]\n",
      " [0.01164364 0.01240967 0.01077548 ... 0.00694533 0.00689426 0.00607716]\n",
      " [0.01240967 0.01077548 0.010418   ... 0.00689426 0.00607716 0.0060261 ]\n",
      " ...\n",
      " [0.01583127 0.01537165 0.01475883 ... 0.01230754 0.0097541  0.01062227]\n",
      " [0.01537165 0.01475883 0.01470776 ... 0.0097541  0.01062227 0.00980517]\n",
      " [0.01475883 0.01470776 0.01292036 ... 0.01062227 0.00980517 0.00924342]]\n"
     ]
    }
   ],
   "source": [
    "print(x_test)"
   ]
  },
  {
   "cell_type": "code",
   "execution_count": 31,
   "metadata": {},
   "outputs": [
    {
     "name": "stdout",
     "output_type": "stream",
     "text": [
      "[0.00607716 0.0060261  0.0060261  0.00623037 0.00607716 0.00577075\n",
      " 0.00582182 0.00607716 0.00633251 0.00592396 0.00648571 0.0061793\n",
      " 0.00668999 0.00587289 0.00515793 0.0053622  0.00485152 0.00454511\n",
      " 0.00464724 0.00459617 0.00408549 0.00423869 0.00372801 0.00388121\n",
      " 0.00372801 0.00362587 0.00362587 0.00362587 0.00362587 0.00362587\n",
      " 0.00362587 0.00418763 0.00362587 0.00362587 0.00362587 0.00362587\n",
      " 0.00362587 0.00362587 0.00362587 0.00362587 0.00362587 0.00362587\n",
      " 0.00362587 0.00362587 0.00362587 0.00362587 0.00362587 0.00362587\n",
      " 0.00362587 0.00362587 0.00362587 0.00362587 0.00362587 0.00362587\n",
      " 0.00362587 0.00362587 0.00362587 0.00362587 0.00362587 0.00362587\n",
      " 0.00362587 0.00362587 0.00362587 0.00367694 0.00362587 0.00377908\n",
      " 0.00188954 0.0027577  0.0035748  0.00449404 0.00531114 0.00469831\n",
      " 0.00388121 0.00531114 0.00592396 0.00663892 0.00679213 0.00684319\n",
      " 0.00633251 0.00740495 0.00786457 0.0079667  0.0079667  0.0079667\n",
      " 0.0086306  0.00898808 0.00868166 0.00868166 0.00893701 0.0078135\n",
      " 0.00709854 0.00704747 0.00674106 0.00643464 0.00709854 0.00668999\n",
      " 0.00714961 0.00750709 0.00684319 0.00658785 0.00684319 0.00648571\n",
      " 0.00551541 0.00607716 0.00633251 0.00561755 0.00515793 0.00546434\n",
      " 0.00566862 0.00393228 0.00362587 0.0034216  0.00423869 0.00485152\n",
      " 0.00480045 0.00480045 0.00480045 0.00490259 0.00515793 0.00551541\n",
      " 0.00566862 0.00776243 0.00786457 0.00806884 0.00735388 0.00791563\n",
      " 0.00811991 0.00832418 0.00837525 0.00837525 0.0086306  0.0087838\n",
      " 0.00898808 0.00934556 0.00939662 0.01000945 0.00995838 0.01067334\n",
      " 0.01062227 0.01026479 0.01011158 0.00939662 0.00898808 0.0096009\n",
      " 0.00939662 0.01006052 0.01000945 0.01062227 0.01021372 0.0105712\n",
      " 0.01092868 0.01087761 0.01169471 0.01184792 0.01169471 0.01240967\n",
      " 0.01159257 0.0097541  0.00929449 0.00980517 0.01062227 0.01113296\n",
      " 0.01046907 0.010418   0.01077548 0.01077548 0.01046907 0.01164364\n",
      " 0.00939662 0.01011158 0.01149044 0.01143937 0.01251181 0.01276715\n",
      " 0.01337998 0.01394173 0.01455455 0.01547379 0.01526951 0.01634196\n",
      " 0.01634196 0.01552486 0.01654623 0.01588234 0.01572913 0.01608661\n",
      " 0.01669944 0.01736333 0.01644409 0.01475883 0.0139928  0.0148099\n",
      " 0.01465669 0.01353318 0.01266502 0.01332891 0.01297143 0.01383959\n",
      " 0.01368639 0.01511631 0.01506524 0.01644409 0.01629089 0.01337998\n",
      " 0.01225647 0.0122054  0.01205219 0.0122054  0.01256288 0.01337998\n",
      " 0.01353318 0.01225647 0.01200112 0.01174578 0.01195005 0.01205219\n",
      " 0.01230754 0.01230754 0.01205219 0.01271608 0.01225647 0.01276715\n",
      " 0.01174578 0.0122054  0.01179685 0.01230754 0.01200112 0.01189899\n",
      " 0.01159257 0.01179685 0.01159257 0.01200112 0.01179685 0.01195005\n",
      " 0.01143937 0.01210326 0.01174578 0.01271608 0.01297143 0.01143937\n",
      " 0.01031586 0.01128616 0.0123586  0.01159257 0.00985624 0.0105712\n",
      " 0.01118403 0.010418   0.01072441 0.01092868 0.00847739 0.00755815\n",
      " 0.00776243 0.00776243 0.00725174 0.00674106 0.00684319 0.00704747\n",
      " 0.00689426 0.00674106 0.00653678 0.00725174 0.00776243 0.00648571\n",
      " 0.0061793  0.00587289 0.00597503 0.00577075 0.00577075 0.00587289\n",
      " 0.00623037 0.00679213 0.00643464 0.00643464 0.00582182 0.00546434\n",
      " 0.00485152 0.00449404 0.00449404 0.00418763 0.00469831 0.00434083\n",
      " 0.00500472 0.00490259 0.00474938 0.00464724 0.00474938 0.00490259\n",
      " 0.00464724 0.00474938 0.00434083 0.00428976 0.00403442 0.00423869\n",
      " 0.00434083 0.00459617 0.00444297 0.00428976 0.00383015 0.00464724\n",
      " 0.00434083 0.00541327 0.00551541 0.00526007 0.00515793 0.00571968\n",
      " 0.00546434 0.00561755 0.00566862 0.00592396 0.00566862 0.00592396\n",
      " 0.00597503 0.00592396 0.00612823 0.00623037 0.00551541 0.00500472\n",
      " 0.00526007 0.00485152 0.00469831 0.00505579 0.00469831 0.00428976\n",
      " 0.00434083 0.00428976 0.00444297 0.00449404 0.00459617 0.00454511\n",
      " 0.00449404 0.00485152 0.00531114 0.00587289 0.00490259 0.005209\n",
      " 0.005209   0.00531114 0.00577075 0.00561755 0.00582182 0.00541327\n",
      " 0.00541327 0.00500472 0.00577075 0.00582182 0.00633251 0.00653678\n",
      " 0.00653678 0.00658785 0.00674106 0.00674106 0.00674106 0.00720067\n",
      " 0.00658785 0.00648571 0.00679213 0.00658785 0.00658785 0.00628144\n",
      " 0.00582182 0.02415545 0.02338942 0.02129561 0.02175523 0.02287874\n",
      " 0.0227766  0.02497255 0.02589179 0.02650461 0.02675995 0.02645354\n",
      " 0.02742384 0.02793453 0.02573858 0.02497255 0.02563644 0.02517683\n",
      " 0.02323622 0.02379797 0.02584072 0.02497255 0.02502362 0.02308301\n",
      " 0.02686209 0.02660675 0.02461507 0.02727064 0.02349156 0.02675995\n",
      " 0.03150933 0.03436917 0.03125399 0.03636085 0.04080382 0.04575748\n",
      " 0.04223374 0.04570641 0.05183464 0.05147716 0.04825984 0.05035365\n",
      " 0.04437862 0.03957817 0.03927176 0.04299977 0.04407221 0.04095703\n",
      " 0.03794398 0.03845466 0.0427955  0.04728953 0.054337   0.05423486\n",
      " 0.05535837 0.049128   0.04351046 0.04351046 0.03968031 0.04039527\n",
      " 0.04111023 0.04330618 0.04105916 0.04340832 0.03911856 0.03666726\n",
      " 0.03232643 0.03212216 0.0314072  0.02711743 0.02926231 0.03130506\n",
      " 0.0270153  0.02451293 0.0227766  0.02435973 0.02594285 0.02793453\n",
      " 0.02594285 0.02762812 0.03130506 0.03222429 0.03753543 0.03564589\n",
      " 0.03094758 0.02854735 0.02451293 0.02476828 0.0211424  0.01777188\n",
      " 0.01654623 0.01598448 0.01603554 0.01470776 0.01475883 0.01327784\n",
      " 0.01307356 0.01286929 0.01414601 0.01450349 0.01297143 0.01337998\n",
      " 0.01337998 0.01261395 0.01149044 0.010418   0.01092868 0.01143937\n",
      " 0.01133723 0.01082655 0.01133723 0.01184792 0.01159257 0.01215433\n",
      " 0.01271608 0.01271608 0.01261395 0.01312463 0.01353318 0.01332891\n",
      " 0.01358425 0.01353318 0.01348211 0.01332891 0.01353318 0.01389066\n",
      " 0.01383959 0.01358425 0.01394173 0.01394173 0.01414601 0.01475883\n",
      " 0.01537165 0.01511631 0.01394173 0.01378852 0.01368639 0.01424814\n",
      " 0.01486097 0.01501417 0.01521845 0.01583127 0.01537165 0.01475883\n",
      " 0.01470776 0.01292036 0.01343104 0.01394173 0.01281822 0.01230754\n",
      " 0.01240967 0.01297143 0.01205219 0.01281822 0.01327784 0.01475883\n",
      " 0.0149631  0.0165973  0.01685264 0.01848684 0.01833363 0.01521845\n",
      " 0.01307356 0.01215433 0.0122054  0.01164364 0.01169471 0.01179685\n",
      " 0.01189899 0.01179685 0.01103082 0.010418   0.01077548 0.01108189\n",
      " 0.01082655 0.01133723 0.01164364 0.01113296 0.01118403 0.01154151\n",
      " 0.01195005 0.0122054  0.01184792 0.0122054  0.01276715 0.01281822\n",
      " 0.01215433 0.01271608 0.01261395 0.01174578 0.01123509 0.01123509\n",
      " 0.01174578 0.01143937 0.01108189 0.01154151 0.01036693 0.01046907\n",
      " 0.00949876 0.00903914 0.01006052 0.01026479 0.01046907 0.01097975\n",
      " 0.01082655 0.01082655 0.01179685 0.01266502 0.01261395 0.01215433\n",
      " 0.01297143 0.0130225  0.01286929 0.0131757  0.01409494 0.01424814\n",
      " 0.01378852 0.01286929 0.01297143 0.01327784 0.01348211 0.0139928\n",
      " 0.01455455 0.01445242 0.01532058 0.01389066 0.01506524 0.01332891\n",
      " 0.0122054  0.01322677 0.01353318 0.01337998 0.01353318 0.01149044\n",
      " 0.01149044 0.01072441 0.01087761 0.01143937 0.01230754 0.0097541\n",
      " 0.01062227 0.00980517 0.00924342 0.0096009 ]\n"
     ]
    }
   ],
   "source": [
    "print(y_test)"
   ]
  },
  {
   "cell_type": "code",
   "execution_count": 32,
   "metadata": {},
   "outputs": [
    {
     "name": "stdout",
     "output_type": "stream",
     "text": [
      "(2718, 100)\n",
      "(2718,)\n",
      "(604, 100)\n",
      "(604,)\n"
     ]
    },
    {
     "data": {
      "text/plain": [
       "(None, None)"
      ]
     },
     "execution_count": 32,
     "metadata": {},
     "output_type": "execute_result"
    }
   ],
   "source": [
    "print(x_train.shape), print(y_train.shape)\n",
    "print(x_test.shape), print(y_test.shape)"
   ]
  },
  {
   "cell_type": "code",
   "execution_count": 33,
   "metadata": {},
   "outputs": [],
   "source": [
    "# reshape input into 3D array\n",
    "x_train = x_train.reshape(x_train.shape[0],x_train.shape[1],1)\n",
    "x_test = x_test.reshape(x_test.shape[0],x_test.shape[1],1)"
   ]
  },
  {
   "cell_type": "code",
   "execution_count": 35,
   "metadata": {},
   "outputs": [
    {
     "data": {
      "text/plain": [
       "((2718, 100, 1), (604, 100, 1))"
      ]
     },
     "execution_count": 35,
     "metadata": {},
     "output_type": "execute_result"
    }
   ],
   "source": [
    "x_train.shape, x_test.shape"
   ]
  },
  {
   "cell_type": "code",
   "execution_count": 36,
   "metadata": {},
   "outputs": [],
   "source": [
    "# create LSTM model\n",
    "from tensorflow.keras.models import Sequential\n",
    "from tensorflow.keras.layers import Dense, LSTM, Dropout\n",
    "from tensorflow.keras.callbacks import EarlyStopping \n",
    "from tensorflow.keras.optimizers import Adam "
   ]
  },
  {
   "cell_type": "code",
   "execution_count": null,
   "metadata": {},
   "outputs": [],
   "source": [
    "model = Sequential()\n",
    "\n",
    "model.add(LSTM(units = 50,activation='relu', return_squences = True, input_shape = (x_train.shape[1],1)))\n",
    "model.add(Dropout(0.2))\n",
    "\n",
    "model.add(LSTM(units = 60,activation='relu', return_squences = True))\n",
    "model.add(Dropout(0.3))\n",
    "\n",
    "model.add(LSTM(units = 80,activation='relu', return_squences = True))\n",
    "model.add(Dropout(0.4))\n",
    "\n",
    "model.add(LSTM(units = 120,activation='relu'))\n",
    "model.add(Dropout(0.5))\n",
    "\n",
    "model.add(Dense(units = 1))"
   ]
  },
  {
   "cell_type": "code",
   "execution_count": null,
   "metadata": {},
   "outputs": [],
   "source": [
    "model.complie(optimizer = Adam(learning_rate = 0.001), loss = 'mean_squared_error')"
   ]
  },
  {
   "cell_type": "code",
   "execution_count": null,
   "metadata": {},
   "outputs": [],
   "source": [
    "early_stopping = EarlyStopping(\n",
    "    monitor=\"val_loss\",\n",
    "    patience=5,\n",
    "    restore_best_weights=True,\n",
    ")"
   ]
  },
  {
   "cell_type": "code",
   "execution_count": null,
   "metadata": {},
   "outputs": [],
   "source": [
    "model_history = model.fit(x_train,y_train, validation_data = (x_test, y_test), epochs = 100, callbacks = [early_stopping],verbose = 0)"
   ]
  },
  {
   "cell_type": "code",
   "execution_count": null,
   "metadata": {},
   "outputs": [],
   "source": [
    "model_history.history.keys()"
   ]
  },
  {
   "cell_type": "code",
   "execution_count": null,
   "metadata": {},
   "outputs": [],
   "source": [
    "predict = model.predict(x_test)"
   ]
  },
  {
   "cell_type": "code",
   "execution_count": null,
   "metadata": {},
   "outputs": [],
   "source": [
    "predict = scaler.inverse_transform(predict)"
   ]
  },
  {
   "cell_type": "code",
   "execution_count": null,
   "metadata": {},
   "outputs": [],
   "source": [
    "### Calculate RMSE performance metrics\n",
    "import math\n",
    "from sklearn.metrics import mean_squared_error"
   ]
  },
  {
   "cell_type": "code",
   "execution_count": null,
   "metadata": {},
   "outputs": [],
   "source": [
    "math.sqrt(mean_squared_error(y_test,predict))"
   ]
  },
  {
   "cell_type": "code",
   "execution_count": null,
   "metadata": {},
   "outputs": [],
   "source": [
    "# summarize history for accuracy\n",
    "plt.plot(model_history.history['accuracy'])\n",
    "plt.plot(model_history.history['val_accuracy'])\n",
    "plt.title('model accuracy')\n",
    "plt.ylabel('accuracy')\n",
    "plt.xlabel('epoch')\n",
    "plt.legend(['train', 'test'], loc='upper left')\n",
    "plt.show()"
   ]
  },
  {
   "cell_type": "code",
   "execution_count": null,
   "metadata": {},
   "outputs": [],
   "source": [
    "# summarize history for loss\n",
    "plt.plot(model_history.history['loss'])\n",
    "plt.plot(model_history.history['val_loss'])\n",
    "plt.title('model loss')\n",
    "plt.ylabel('loss')\n",
    "plt.xlabel('epoch')\n",
    "plt.legend(['train', 'test'], loc='upper left')\n",
    "plt.show()"
   ]
  },
  {
   "cell_type": "code",
   "execution_count": null,
   "metadata": {},
   "outputs": [],
   "source": [
    "# save model\n",
    "model.save(\"model_test.h5\")"
   ]
  },
  {
   "cell_type": "code",
   "execution_count": null,
   "metadata": {},
   "outputs": [],
   "source": [
    "from tensorflow.keras.models import load_model\n",
    "model2 = load_model('name.h5')\n",
    "result = model2.predict(x_train)\n",
    "result = scaler.inverse_transform(result)\n",
    "print(result)"
   ]
  }
 ],
 "metadata": {
  "kernelspec": {
   "display_name": "Python 3",
   "language": "python",
   "name": "python3"
  },
  "language_info": {
   "codemirror_mode": {
    "name": "ipython",
    "version": 3
   },
   "file_extension": ".py",
   "mimetype": "text/x-python",
   "name": "python",
   "nbconvert_exporter": "python",
   "pygments_lexer": "ipython3",
   "version": "3.10.5"
  }
 },
 "nbformat": 4,
 "nbformat_minor": 2
}
